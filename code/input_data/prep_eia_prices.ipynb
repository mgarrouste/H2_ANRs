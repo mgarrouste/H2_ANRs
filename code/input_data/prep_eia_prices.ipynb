{
 "cells": [
  {
   "cell_type": "code",
   "execution_count": 7,
   "metadata": {},
   "outputs": [],
   "source": [
    "import pandas as pd"
   ]
  },
  {
   "cell_type": "code",
   "execution_count": 8,
   "metadata": {},
   "outputs": [],
   "source": [
    "excel_file = './eia_aeo_industrial_sector_ng_prices.xlsx'"
   ]
  },
  {
   "cell_type": "code",
   "execution_count": 9,
   "metadata": {},
   "outputs": [],
   "source": [
    "div_df = pd.read_excel(excel_file, sheet_name='prices_division')\n",
    "map_df = pd.read_excel(excel_file, sheet_name='map_census_division_state')"
   ]
  },
  {
   "cell_type": "code",
   "execution_count": 10,
   "metadata": {},
   "outputs": [],
   "source": [
    "state_df = map_df.merge(div_df, left_on='region', right_on='region')\n",
    "state_df = state_df[['state', 'year', 'price 2020USD/MMBtu']]"
   ]
  },
  {
   "cell_type": "code",
   "execution_count": 11,
   "metadata": {},
   "outputs": [],
   "source": [
    "sheet_name = 'state_prices'\n",
    "\n",
    "with pd.ExcelFile(excel_file, engine='openpyxl') as xls:\n",
    "    # Check if the sheet exists\n",
    "    if sheet_name in xls.sheet_names:\n",
    "        # If the sheet exists, replace the data\n",
    "        with pd.ExcelWriter(excel_file, engine='openpyxl', mode='a', if_sheet_exists='replace') as writer:\n",
    "            state_df.to_excel(writer, sheet_name=sheet_name, index=False)\n",
    "    else:\n",
    "        # If the sheet doesn't exist, create a new sheet\n",
    "        with pd.ExcelWriter(excel_file, engine='openpyxl', mode='a') as writer:\n",
    "            state_df.to_excel(writer, sheet_name=sheet_name, index=False)"
   ]
  }
 ],
 "metadata": {
  "kernelspec": {
   "display_name": "base",
   "language": "python",
   "name": "python3"
  },
  "language_info": {
   "codemirror_mode": {
    "name": "ipython",
    "version": 3
   },
   "file_extension": ".py",
   "mimetype": "text/x-python",
   "name": "python",
   "nbconvert_exporter": "python",
   "pygments_lexer": "ipython3",
   "version": "3.11.4"
  }
 },
 "nbformat": 4,
 "nbformat_minor": 2
}
