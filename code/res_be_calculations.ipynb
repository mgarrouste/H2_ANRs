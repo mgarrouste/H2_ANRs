{
 "cells": [
  {
   "cell_type": "code",
   "execution_count": 121,
   "metadata": {},
   "outputs": [],
   "source": [
    "import pandas as pd"
   ]
  },
  {
   "cell_type": "markdown",
   "metadata": {},
   "source": [
    "# Refining"
   ]
  },
  {
   "cell_type": "code",
   "execution_count": 122,
   "metadata": {},
   "outputs": [],
   "source": [
    "CONV_MJ_TO_MMBTU = 1/1055.05585 #MMBTU/MJ\n",
    "EFF_H2_SMR = 159.6 #MJ/kgH2"
   ]
  },
  {
   "cell_type": "code",
   "execution_count": 123,
   "metadata": {},
   "outputs": [
    {
     "data": {
      "text/html": [
       "<div>\n",
       "<style scoped>\n",
       "    .dataframe tbody tr th:only-of-type {\n",
       "        vertical-align: middle;\n",
       "    }\n",
       "\n",
       "    .dataframe tbody tr th {\n",
       "        vertical-align: top;\n",
       "    }\n",
       "\n",
       "    .dataframe thead th {\n",
       "        text-align: right;\n",
       "    }\n",
       "</style>\n",
       "<table border=\"1\" class=\"dataframe\">\n",
       "  <thead>\n",
       "    <tr style=\"text-align: right;\">\n",
       "      <th></th>\n",
       "      <th>RES</th>\n",
       "      <th>Breakeven price ($/MMBtu)</th>\n",
       "    </tr>\n",
       "  </thead>\n",
       "  <tbody>\n",
       "    <tr>\n",
       "      <th>0</th>\n",
       "      <td>Grid PEM</td>\n",
       "      <td>34.837997</td>\n",
       "    </tr>\n",
       "    <tr>\n",
       "      <th>1</th>\n",
       "      <td>Wind subsidized</td>\n",
       "      <td>37.250875</td>\n",
       "    </tr>\n",
       "    <tr>\n",
       "      <th>2</th>\n",
       "      <td>Wind unsubsidized</td>\n",
       "      <td>43.861501</td>\n",
       "    </tr>\n",
       "    <tr>\n",
       "      <th>3</th>\n",
       "      <td>Solar PEC</td>\n",
       "      <td>49.579692</td>\n",
       "    </tr>\n",
       "    <tr>\n",
       "      <th>4</th>\n",
       "      <td>Solar PV-E</td>\n",
       "      <td>50.901817</td>\n",
       "    </tr>\n",
       "    <tr>\n",
       "      <th>5</th>\n",
       "      <td>SMR 89% CCUS</td>\n",
       "      <td>12.758507</td>\n",
       "    </tr>\n",
       "  </tbody>\n",
       "</table>\n",
       "</div>"
      ],
      "text/plain": [
       "                 RES  Breakeven price ($/MMBtu)\n",
       "0           Grid PEM                  34.837997\n",
       "1    Wind subsidized                  37.250875\n",
       "2  Wind unsubsidized                  43.861501\n",
       "3          Solar PEC                  49.579692\n",
       "4         Solar PV-E                  50.901817\n",
       "5       SMR 89% CCUS                  12.758507"
      ]
     },
     "execution_count": 123,
     "metadata": {},
     "output_type": "execute_result"
    }
   ],
   "source": [
    "lcoh_res_df = pd.read_excel('./input_data/lcoh_lcoe_res.xlsx')\n",
    "res_be_df = pd.DataFrame(columns=['RES', 'Breakeven price ($/MMBtu)'])\n",
    "res_be_df['RES'] = lcoh_res_df['RES']\n",
    "res_be_df['Breakeven price ($/MMBtu)'] = lcoh_res_df.apply(lambda x:x['LCOH']/(EFF_H2_SMR*CONV_MJ_TO_MMBTU), axis=1)\n",
    "res_be_df"
   ]
  },
  {
   "cell_type": "code",
   "execution_count": 124,
   "metadata": {},
   "outputs": [],
   "source": [
    "res_be_df.to_csv('./results/res_be_refining.csv', header=True, index=False)\n"
   ]
  },
  {
   "cell_type": "markdown",
   "metadata": {},
   "source": [
    "## Steel"
   ]
  },
  {
   "cell_type": "code",
   "execution_count": 125,
   "metadata": {},
   "outputs": [],
   "source": [
    "CONV_MJ_TO_MMBTU = 1/1055.05585 #MMBTU/MJ\n",
    "COAL_CONS_RATE = 0.663 #ton-coal/ton-steel for conventional BF/BOF plant\n",
    "iron_ore_cost = 100 #$/t_ironore\n",
    "bfbof_iron_cons = 1.226 #t_ironore/t_steel\n",
    "om_bfbof = 353.25 #$/t_steel\n",
    "DRICO2Intensity = 40 # kgCO2/ton-DRI`````````````````\n",
    "ShaftFCAPEX = 250 # $/tDRI/year\n",
    "EAFCAPEX = 160 # $/tsteel/year\n",
    "EAFOM  = 24.89 # $/tsteel (EAF and casting)\n",
    "Steel = 800 # $/tsteel\n",
    "RatioSteelDRI = 0.9311 # tsteel/tDRI\n",
    "RatioIronOreDRI = 1.391 # tironore/tDRI\n"
   ]
  },
  {
   "cell_type": "code",
   "execution_count": 126,
   "metadata": {},
   "outputs": [],
   "source": [
    "lco_df = pd.read_excel('./input_data/lcoh_lcoe_res.xlsx', index_col=0)\n",
    "res_list = list(lco_df.index)"
   ]
  },
  {
   "cell_type": "code",
   "execution_count": 127,
   "metadata": {},
   "outputs": [],
   "source": [
    "steel_df = pd.read_excel('h2_demand_bfbof_steel_us_2022.xlsx', sheet_name='processed')\n",
    "steel_ids = list(steel_df['Plant'])"
   ]
  },
  {
   "cell_type": "code",
   "execution_count": 128,
   "metadata": {},
   "outputs": [],
   "source": [
    "res_be_df= pd.DataFrame(columns=['Plant', 'Grid PEM', 'Wind unsubsidized', 'Wind subsidized', 'Solar PEC','Solar PV-E', 'SMR 89% CCUS'])\n",
    "res_be_df['Plant'] = steel_df['Plant']\n",
    "res_be_df.set_index('Plant', inplace=True)\n"
   ]
  },
  {
   "cell_type": "code",
   "execution_count": 129,
   "metadata": {},
   "outputs": [],
   "source": [
    "from opt_deployment_steel import get_steel_plant_demand\n",
    "def compute_res_be(lcoh, lcoe, plant):\n",
    "  steel_cap_ton_per_annum, h2_dem_kg_per_day, elec_dem_MWe = get_steel_plant_demand(plant)\n",
    "  costs_dri_eaf = steel_cap_ton_per_annum*(EAFCAPEX + ShaftFCAPEX/RatioSteelDRI + EAFOM +\\\n",
    "            iron_ore_cost*RatioIronOreDRI/RatioSteelDRI)\n",
    "  costs_h2 =  lcoh*h2_dem_kg_per_day*365\n",
    "  costs_electricity = lcoe*elec_dem_MWe*24*365\n",
    "  costs_bfbof = iron_ore_cost*bfbof_iron_cons*steel_cap_ton_per_annum + om_bfbof*steel_cap_ton_per_annum\n",
    "  coal_ann_consumption = steel_cap_ton_per_annum*COAL_CONS_RATE\n",
    "  res_be = (costs_h2+costs_electricity+costs_dri_eaf - costs_bfbof)/coal_ann_consumption\n",
    "  return res_be"
   ]
  },
  {
   "cell_type": "code",
   "execution_count": 130,
   "metadata": {},
   "outputs": [],
   "source": [
    "for plant in steel_ids:\n",
    "  for res in res_list:\n",
    "    lcoh = lco_df.loc[res, 'LCOH']\n",
    "    lcoe = lco_df.loc[res, 'LCOE']\n",
    "    res_be = compute_res_be(lcoh, lcoe, plant)\n",
    "    res_be_df.loc[plant, res] = res_be\n",
    "\n",
    "res_be_df = res_be_df.mean().to_frame(name='Breakeven price ($/tcoal)')\n",
    "res_be_df.reset_index(inplace=True)\n",
    "res_be_df.rename(columns={'index':'RES'},inplace=True )\n",
    "res_be_df.to_csv('./results/res_be_steel.csv', header=True, index=False)"
   ]
  },
  {
   "cell_type": "markdown",
   "metadata": {},
   "source": [
    "# Heat Process"
   ]
  }
 ],
 "metadata": {
  "kernelspec": {
   "display_name": "base",
   "language": "python",
   "name": "python3"
  },
  "language_info": {
   "codemirror_mode": {
    "name": "ipython",
    "version": 3
   },
   "file_extension": ".py",
   "mimetype": "text/x-python",
   "name": "python",
   "nbconvert_exporter": "python",
   "pygments_lexer": "ipython3",
   "version": "3.11.4"
  }
 },
 "nbformat": 4,
 "nbformat_minor": 2
}
