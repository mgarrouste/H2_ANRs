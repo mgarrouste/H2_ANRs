{
 "cells": [
  {
   "cell_type": "code",
   "execution_count": 79,
   "metadata": {},
   "outputs": [],
   "source": [
    "import pandas as pd\n",
    "import numpy as np\n",
    "import warnings\n",
    "import utils\n",
    "import matplotlib.pyplot as plt\n",
    "import seaborn as sns\n",
    "import glob,os\n",
    "from geopy.geocoders import Nominatim\n",
    "from geopy.extra.rate_limiter import RateLimiter\n",
    "\n",
    "OAK = 'NOAK'\n",
    "with_PTC = True\n",
    "cogen = True\n",
    "cambium_scenario = 'MidCase'\n",
    "year = 2024\n",
    "if cogen: cogen_tag = 'cogen'\n",
    "else: cogen_tag = 'nocogen'\n",
    "warnings.simplefilter(action='ignore', category=pd.errors.SettingWithCopyWarning)\n",
    "warnings.simplefilter(action='ignore', category=pd.errors.PerformanceWarning)"
   ]
  },
  {
   "cell_type": "markdown",
   "metadata": {},
   "source": [
    "# Import ANR-H2 input parameters"
   ]
  },
  {
   "cell_type": "code",
   "execution_count": 80,
   "metadata": {},
   "outputs": [],
   "source": [
    "h2_techs = pd.read_excel('./h2_tech.xlsx', sheet_name = 'Summary')\n",
    "h2_techs.rename(columns={'CAPEX ($/MWe)':'H2 CAPEX ($/MWe)',\n",
    "                 'FOM ($/MWe-year)':'H2 FOM ($/MWe-year)',\n",
    "                 'VOM ($/MWhe)':'H2 VOM ($/MWhe)'}, inplace=True)\n",
    "anrs = pd.read_excel('./ANRs.xlsx', sheet_name=OAK)\n",
    "anrs.rename(columns={'CAPEX $/MWe':'ANR CAPEX ($/MWe)',\n",
    "                 'FOPEX $/MWe-y':'ANR FOM ($/MWe-year)',\n",
    "                 'VOM in $/MWh-e':'ANR VOM ($/MWhe)', \n",
    "                 'Startupfixedcost in $':'Start Cost ($)'}, inplace=True)\n",
    "techs = pd.merge(h2_techs, anrs, left_on='ANR', right_on='Reactor')"
   ]
  },
  {
   "cell_type": "markdown",
   "metadata": {},
   "source": [
    "# Natural Gas"
   ]
  },
  {
   "cell_type": "code",
   "execution_count": 81,
   "metadata": {},
   "outputs": [],
   "source": [
    "# Avoided NG costs\n",
    "def compute_ng_multiplier(temp, AHF_coeffs=[0, -.00038, 0.90556]):\n",
    "  # Available Heat Fraction\n",
    "  AHF = AHF_coeffs[0]*(int(temp)**2)+ AHF_coeffs[1]*int(temp) + AHF_coeffs[2]\n",
    "  multiplier = AHF/utils.mmbtu_to_mj # Unit: MmBtu/MJ\n",
    "  return multiplier\n",
    "\n",
    "# Merge state-level prices\n",
    "ng_prices = pd.read_excel('./input_data/eia_aeo_industrial_sector_ng_prices.xlsx', sheet_name='state_prices')\n",
    "# 2024 prices\n",
    "ng_prices = ng_prices[ng_prices.year == 2024]\n",
    "ng_prices.rename(columns={'price 2020USD/MMBtu':'NG price ($/MMBtu)'}, inplace=True)"
   ]
  },
  {
   "cell_type": "markdown",
   "metadata": {},
   "source": [
    "# Coordinates"
   ]
  },
  {
   "cell_type": "code",
   "execution_count": 82,
   "metadata": {},
   "outputs": [],
   "source": [
    "locations_file = './results/process_heat/heat_facilities_locations.csv'\n",
    "if not os.path.isfile(locations_file):\n",
    "  loc_data = pd.read_excel('./input_data/direct_heat_maxv/facs_batched.xlsx')[['CITY', 'STATE']].drop_duplicates(ignore_index=True)\n",
    "  geolocator = Nominatim(user_agent=\"your_app_name\")\n",
    "  geocode = RateLimiter(geolocator.geocode, min_delay_seconds=1)\n",
    "\n",
    "  # Function to apply geocoding\n",
    "  def geocode_location(row):\n",
    "      # Try to geocode using city and state, else return NaN\n",
    "      try:\n",
    "          location = geocode(f\"{row['CITY']}, {row['STATE']}, USA\")\n",
    "          return location.latitude, location.longitude\n",
    "      except:\n",
    "          return pd.NA, pd.NA\n",
    "\n",
    "  # Apply the geocoding function to each row\n",
    "  loc_data['latitude'], loc_data['longitude'] = zip(*loc_data.apply(geocode_location, axis=1))\n",
    "  loc_data.to_csv(locations_file, index=False)\n",
    "else:\n",
    "  loc_data = pd.read_csv(locations_file)"
   ]
  },
  {
   "cell_type": "code",
   "execution_count": 83,
   "metadata": {},
   "outputs": [
    {
     "data": {
      "text/html": [
       "<div>\n",
       "<style scoped>\n",
       "    .dataframe tbody tr th:only-of-type {\n",
       "        vertical-align: middle;\n",
       "    }\n",
       "\n",
       "    .dataframe tbody tr th {\n",
       "        vertical-align: top;\n",
       "    }\n",
       "\n",
       "    .dataframe thead th {\n",
       "        text-align: right;\n",
       "    }\n",
       "</style>\n",
       "<table border=\"1\" class=\"dataframe\">\n",
       "  <thead>\n",
       "    <tr style=\"text-align: right;\">\n",
       "      <th></th>\n",
       "      <th>CITY</th>\n",
       "      <th>STATE</th>\n",
       "      <th>latitude</th>\n",
       "      <th>longitude</th>\n",
       "    </tr>\n",
       "  </thead>\n",
       "  <tbody>\n",
       "    <tr>\n",
       "      <th>0</th>\n",
       "      <td>East Chicago</td>\n",
       "      <td>IN</td>\n",
       "      <td>41.639786</td>\n",
       "      <td>-87.454847</td>\n",
       "    </tr>\n",
       "    <tr>\n",
       "      <th>1</th>\n",
       "      <td>CLEVELAND</td>\n",
       "      <td>OH</td>\n",
       "      <td>41.499657</td>\n",
       "      <td>-81.693677</td>\n",
       "    </tr>\n",
       "    <tr>\n",
       "      <th>2</th>\n",
       "      <td>BURNS HARBOR</td>\n",
       "      <td>IN</td>\n",
       "      <td>41.625871</td>\n",
       "      <td>-87.133368</td>\n",
       "    </tr>\n",
       "    <tr>\n",
       "      <th>3</th>\n",
       "      <td>MIDDLETOWN</td>\n",
       "      <td>OH</td>\n",
       "      <td>39.516644</td>\n",
       "      <td>-84.404173</td>\n",
       "    </tr>\n",
       "    <tr>\n",
       "      <th>4</th>\n",
       "      <td>DEARBORN</td>\n",
       "      <td>MI</td>\n",
       "      <td>42.322260</td>\n",
       "      <td>-83.176315</td>\n",
       "    </tr>\n",
       "    <tr>\n",
       "      <th>...</th>\n",
       "      <td>...</td>\n",
       "      <td>...</td>\n",
       "      <td>...</td>\n",
       "      <td>...</td>\n",
       "    </tr>\n",
       "    <tr>\n",
       "      <th>745</th>\n",
       "      <td>WEST BURLINGTON</td>\n",
       "      <td>IA</td>\n",
       "      <td>40.825083</td>\n",
       "      <td>-91.156550</td>\n",
       "    </tr>\n",
       "    <tr>\n",
       "      <th>746</th>\n",
       "      <td>GIBSON CITY</td>\n",
       "      <td>IL</td>\n",
       "      <td>40.465312</td>\n",
       "      <td>-88.375888</td>\n",
       "    </tr>\n",
       "    <tr>\n",
       "      <th>747</th>\n",
       "      <td>JACKSON</td>\n",
       "      <td>NE</td>\n",
       "      <td>42.448296</td>\n",
       "      <td>-96.565531</td>\n",
       "    </tr>\n",
       "    <tr>\n",
       "      <th>748</th>\n",
       "      <td>ST ANSGAR (MONA)</td>\n",
       "      <td>IA</td>\n",
       "      <td>NaN</td>\n",
       "      <td>NaN</td>\n",
       "    </tr>\n",
       "    <tr>\n",
       "      <th>749</th>\n",
       "      <td>Emmetsburg</td>\n",
       "      <td>IA</td>\n",
       "      <td>43.110808</td>\n",
       "      <td>-94.678190</td>\n",
       "    </tr>\n",
       "  </tbody>\n",
       "</table>\n",
       "<p>750 rows × 4 columns</p>\n",
       "</div>"
      ],
      "text/plain": [
       "                 CITY STATE   latitude  longitude\n",
       "0        East Chicago    IN  41.639786 -87.454847\n",
       "1           CLEVELAND    OH  41.499657 -81.693677\n",
       "2        BURNS HARBOR    IN  41.625871 -87.133368\n",
       "3          MIDDLETOWN    OH  39.516644 -84.404173\n",
       "4            DEARBORN    MI  42.322260 -83.176315\n",
       "..                ...   ...        ...        ...\n",
       "745   WEST BURLINGTON    IA  40.825083 -91.156550\n",
       "746       GIBSON CITY    IL  40.465312 -88.375888\n",
       "747           JACKSON    NE  42.448296 -96.565531\n",
       "748  ST ANSGAR (MONA)    IA        NaN        NaN\n",
       "749        Emmetsburg    IA  43.110808 -94.678190\n",
       "\n",
       "[750 rows x 4 columns]"
      ]
     },
     "execution_count": 83,
     "metadata": {},
     "output_type": "execute_result"
    }
   ],
   "source": [
    "loc_data"
   ]
  },
  {
   "cell_type": "markdown",
   "metadata": {},
   "source": [
    "# ANR +  ANR-H2 Analysis"
   ]
  },
  {
   "cell_type": "markdown",
   "metadata": {},
   "source": [
    "## Load batched NREL data from MAX"
   ]
  },
  {
   "cell_type": "code",
   "execution_count": 84,
   "metadata": {},
   "outputs": [
    {
     "data": {
      "text/plain": [
       "Index(['CITY', 'COUNTY', 'COUNTY_FIPS', 'Coal', 'Diesel', 'END_USE',\n",
       "       'FACILITY_ID', 'FINAL_NAICS_CODE', 'FUEL_TYPE', 'FUEL_TYPE_BLEND',\n",
       "       'FUEL_TYPE_OTHER', 'LPG_NGL', 'MECS_NAICS', 'Natural_gas', 'Other',\n",
       "       'Process_byp', 'Pulp_Paper', 'REPORTING_YEAR', 'Residual_fuel_oil',\n",
       "       'STATE', 'Temp_degC', 'UNIT_NAME', 'UNIT_TYPE', 'for_EU_sum',\n",
       "       'Temp_Band', 'Biogenic', 'MMTCO2E', 'Batch_Temp_degC',\n",
       "       'Highest_Temp_served_degC', 'Emissions_mmtco2/y', 'Heat_demand_MWh/hr',\n",
       "       'Remaining_Heat_MW', 'Remaining_temp_degC', 'Temp_Req', 'NG_HLMP_mod',\n",
       "       'Helper'],\n",
       "      dtype='object')"
      ]
     },
     "execution_count": 84,
     "metadata": {},
     "output_type": "execute_result"
    }
   ],
   "source": [
    "nrel_data = pd.read_excel('./input_data/direct_heat_maxv/facs_batched.xlsx')\n",
    "nrel_data.drop(columns=['Unnamed: 0', 'Total'], inplace=True)\n",
    "nrel_data.columns"
   ]
  },
  {
   "cell_type": "code",
   "execution_count": 85,
   "metadata": {},
   "outputs": [
    {
     "data": {
      "text/plain": [
       "Index(['CITY', 'COUNTY', 'COUNTY_FIPS', 'Coal', 'Diesel', 'END_USE',\n",
       "       'FACILITY_ID', 'FINAL_NAICS_CODE', 'FUEL_TYPE', 'FUEL_TYPE_BLEND',\n",
       "       'FUEL_TYPE_OTHER', 'LPG_NGL', 'MECS_NAICS', 'Natural_gas', 'Other',\n",
       "       'Process_byp', 'Pulp_Paper', 'REPORTING_YEAR', 'Residual_fuel_oil',\n",
       "       'STATE', 'Temp_degC', 'Total', 'UNIT_NAME', 'UNIT_TYPE', 'for_EU_sum',\n",
       "       'Temp_Band', 'Biogenic', 'MMTCO2E', 'Batch_Temp_degC',\n",
       "       'Highest_Temp_served_degC', 'Emissions_mmtco2/y', 'Heat_demand_MWh/hr',\n",
       "       'Remaining_Heat_MW', 'Remaining_temp_degC', 'Temp_Req', 'NG_HLMP_mod',\n",
       "       'Helper', 'Reactor', 'Power in MWt', 'Thermal Efficiency',\n",
       "       'Outlet Temp (C)', 'CAPEX $/MWe_foak', 'FOPEX $/MWe-y_foak',\n",
       "       'VOM in $/MWh-e_foak', 'CAPEX $/MWe', 'FOPEX $/MWe-y', 'VOM in $/MWh-e',\n",
       "       'Life (y)', 'Modules', 'SMR_Capacity', 'SMR_Capacity_e',\n",
       "       'Surplus_Capacity', 'Surplus_Capacity_e', 'CRF', 'Total_CAPEX_FOAK',\n",
       "       'Annual_CAPEX_FOAK', 'FOPEX_FOAK', 'VOPEX_FOAK', 'Annual_Cost_FOAK',\n",
       "       'Total_CAPEX_NOAK', 'Annual_CAPEX_NOAK', 'FOPEX_NOAK', 'VOPEX_NOAK',\n",
       "       'Annual_Cost_NOAK', 'state', 'year', 'NG price ($/MMBtu)', 'Revenues',\n",
       "       'ANR Net Ann. Rev. ($/year)'],\n",
       "      dtype='object')"
      ]
     },
     "execution_count": 85,
     "metadata": {},
     "output_type": "execute_result"
    }
   ],
   "source": [
    "# Load results from MAX\n",
    "max_results = pd.read_csv('./input_data/direct_heat_maxv/Full_Spread_SMRs.csv')\n",
    "max_results.drop(columns=['Unnamed: 0.1', 'Unnamed: 0'], inplace=True)\n",
    "assert len(max_results) <= len(nrel_data)*5\n",
    "max_results.columns"
   ]
  },
  {
   "cell_type": "markdown",
   "metadata": {},
   "source": [
    "## Compute H2 demand for unserved demand"
   ]
  },
  {
   "cell_type": "code",
   "execution_count": 86,
   "metadata": {},
   "outputs": [],
   "source": [
    "def compute_h2_demand(heat, temp, AHF_coeffs = [0, -0.00038, .90556]):\n",
    "  \"\"\"Computes the equivalent hydrogen demand to produce heat \n",
    "  Args:\n",
    "    - heat (float): heat demand in MW\n",
    "    - temp (float): temperature in degree Celsius\n",
    "    - AHF_coeffs (list(float)): coefficients for Available Heat Fraction calculation\n",
    "  Returns:\n",
    "    - h2_demand (float): hydrogen demand in kg/h\n",
    "  \"\"\"\n",
    "  AHF = AHF_coeffs[0]*(int(temp)^2) + AHF_coeffs[1]*int(temp) + AHF_coeffs[2]\n",
    "  h2_demand = heat*utils.mwh_to_mj/(utils.h2_hhv*AHF)\n",
    "  return h2_demand\n",
    "max_results['Remaining H2 Dem. (kg/h)'] = max_results.apply(lambda x:compute_h2_demand(x['Remaining_Heat_MW'], x['Remaining_temp_degC']), axis=1)"
   ]
  },
  {
   "cell_type": "markdown",
   "metadata": {},
   "source": [
    "## Compute ANR Net Annual Revenues from Max results for FOAK/NOAK"
   ]
  },
  {
   "cell_type": "code",
   "execution_count": 87,
   "metadata": {},
   "outputs": [],
   "source": [
    "max_results[f'ANR Net Ann. Rev. {OAK} ($/year)'] = -(max_results[f'Annual_CAPEX_{OAK}']+max_results[f'FOPEX_{OAK}']+max_results[f'VOPEX_{OAK}'])+\\\n",
    "                                                    max_results['Revenues']"
   ]
  },
  {
   "cell_type": "code",
   "execution_count": 88,
   "metadata": {},
   "outputs": [],
   "source": [
    "ng_df = max_results[['FACILITY_ID','STATE','CITY','Batch_Temp_degC', 'Highest_Temp_served_degC', 'Emissions_mmtco2/y',\\\n",
    "                    'Heat_demand_MWh/hr', 'Remaining_Heat_MW', 'Remaining_temp_degC', 'Temp_Req', 'NG_HLMP_mod', 'Reactor',\\\n",
    "                    'Modules', 'SMR_Capacity', 'SMR_Capacity_e','Surplus_Capacity', 'Surplus_Capacity_e', \\\n",
    "                    f'Annual_CAPEX_{OAK}', f'FOPEX_{OAK}', f'VOPEX_{OAK}', f'Annual_Cost_{OAK}',\\\n",
    "                    'NG price ($/MMBtu)', 'Revenues', f'ANR Net Ann. Rev. {OAK} ($/year)', 'Remaining H2 Dem. (kg/h)']]\n",
    "ng_df.to_csv(f'./results/process_heat/max_results_full_{OAK}.csv')"
   ]
  },
  {
   "cell_type": "markdown",
   "metadata": {},
   "source": [
    "## Map emissions to batch or max temp"
   ]
  },
  {
   "cell_type": "code",
   "execution_count": 89,
   "metadata": {},
   "outputs": [],
   "source": [
    "# Compute the ratio of NG burned for batch temperature and remaining temperature demand\n",
    "ng_df['NG_batch'] = ng_df.apply(lambda x:compute_ng_multiplier(x['Batch_Temp_degC'])*x['Heat_demand_MWh/hr'], axis=1)\n",
    "ng_df['NG_rem'] = ng_df.apply(lambda x:compute_ng_multiplier(x['Remaining_temp_degC'])*x['Remaining_Heat_MW'], axis=1)\n",
    "ng_df['NG_batch_ratio'] = ng_df['NG_batch']/(ng_df['NG_batch']+ng_df['NG_rem'])\n",
    "ng_df['NG_rem_ratio'] = ng_df['NG_rem']/(ng_df['NG_batch']+ng_df['NG_rem'])\n",
    "ng_df['Emissions_batch_mmtco2/y'] = ng_df['NG_batch_ratio']*ng_df['Emissions_mmtco2/y']\n",
    "ng_df['Emissions_rem_mmtco2/y'] = ng_df['NG_rem_ratio']*ng_df['Emissions_mmtco2/y']"
   ]
  },
  {
   "cell_type": "markdown",
   "metadata": {},
   "source": [
    "## Compute ANR deployment and cashflows"
   ]
  },
  {
   "cell_type": "code",
   "execution_count": 90,
   "metadata": {},
   "outputs": [
    {
     "data": {
      "text/plain": [
       "Index(['FACILITY_ID', 'STATE', 'CITY', 'Batch_Temp_degC',\n",
       "       'Highest_Temp_served_degC', 'Emissions_mmtco2/y', 'Heat_demand_MWh/hr',\n",
       "       'Remaining_Heat_MW', 'Remaining_temp_degC', 'Temp_Req', 'NG_HLMP_mod',\n",
       "       'Reactor_x', 'Modules', 'SMR_Capacity', 'SMR_Capacity_e',\n",
       "       'Surplus_Capacity', 'Surplus_Capacity_e', 'Annual_CAPEX_NOAK',\n",
       "       'FOPEX_NOAK', 'VOPEX_NOAK', 'Annual_Cost_NOAK', 'NG price ($/MMBtu)',\n",
       "       'Revenues', 'ANR Net Ann. Rev. NOAK ($/year)',\n",
       "       'Remaining H2 Dem. (kg/h)', 'NG_batch', 'NG_rem', 'NG_batch_ratio',\n",
       "       'NG_rem_ratio', 'Emissions_batch_mmtco2/y', 'Emissions_rem_mmtco2/y',\n",
       "       'Technology', 'ANR', 'H2Cap (MWe)', 'H2Cap (kgh2/h)',\n",
       "       'H2ElecCons (MWhe/kgh2)', 'H2HeatCons (MWht/kgh2)',\n",
       "       'Eq tot H2ElecCons (MWhe/kgh2)', 'Eq tot H2HeatCons (MWht/kgh2)',\n",
       "       'H2 CAPEX ($/MWe)', 'H2 FOM ($/MWe-year)', 'H2 VOM ($/MWhe)',\n",
       "       'Life (y)_x', 'ANR Th Eff', 'Carbon intensity (kgCO2eq/kgH2)',\n",
       "       'Reactor_y', 'Type', 'Power in MWe', 'Power in MWt', 'MSL in MWe',\n",
       "       'Thermal Efficiency', 'Thermal transfer efficiency', 'MDT in hours',\n",
       "       'Ramp Rate (fraction of capacity/hr)', 'Ramp Rate (MW/hr)',\n",
       "       'Outlet Temp (C)', 'CAPEX $/MWe_foak', 'FOPEX $/MWe-y_foak',\n",
       "       'Max Modules', 'VOM in $/MWh-e_foak', 'ANR CAPEX ($/MWe)',\n",
       "       'ANR FOM ($/MWe-year)', 'ANR VOM ($/MWhe)', 'Start Cost ($)',\n",
       "       'Life (y)_y'],\n",
       "      dtype='object')"
      ]
     },
     "execution_count": 90,
     "metadata": {},
     "output_type": "execute_result"
    }
   ],
   "source": [
    "fr = ng_df.merge(techs, left_on='Reactor', right_on='ANR') # facilities remaining demand\n",
    "fr.columns\n"
   ]
  },
  {
   "cell_type": "code",
   "execution_count": 91,
   "metadata": {},
   "outputs": [],
   "source": [
    "import math\n",
    "fr['H2 Modules'] = fr.apply(lambda x: math.ceil(x['Remaining H2 Dem. (kg/h)']/x['H2Cap (kgh2/h)']), axis=1)\n",
    "fr['Depl. H2 Cap. (kgh2/h)'] = fr['H2 Modules']*fr['H2Cap (kgh2/h)']\n",
    "fr['Depl. H2 Cap. (MWe)'] = fr['H2 Modules']*fr['H2Cap (MWe)']\n",
    "fr['ANR Modules'] = fr.apply(lambda x: math.ceil(x['Depl. H2 Cap. (MWe)']/x['Power in MWe']), axis=1)\n",
    "fr['Depl. ANR Cap. (MWe)'] = fr['ANR Modules']*fr['Power in MWe']\n",
    "fr['Depl. ANR Cap. (MWt)'] = fr['ANR Modules']*fr['Power in MWt']\n",
    "fr['Surplus SMR Cap. (MWe)'] = fr['Depl. ANR Cap. (MWe)']-fr['Depl. H2 Cap. (MWe)']\n",
    "fr['Surplus ANR Cap. (MWt)'] = fr['Surplus SMR Cap. (MWe)']/fr['Thermal Efficiency']"
   ]
  },
  {
   "cell_type": "code",
   "execution_count": 92,
   "metadata": {},
   "outputs": [],
   "source": [
    "# Compute costs in $/year\n",
    "# Capital recovery factor\n",
    "IR = utils.WACC\n",
    "fr['ANR CRF'] = (IR/(1-((1+IR)**(-1*(fr['Life (y)_y'])))))\n",
    "fr['H2 CRF'] = (IR/(1-((1+IR)**(-1*(fr['Life (y)_x'])))))\n",
    "itc_anr = utils.ITC_ANR\n",
    "itc_h2 = utils.ITC_H2\n",
    "\n",
    "## CAPEX\n",
    "fr['Tot ANR CAPEX'] = fr['Depl. ANR Cap. (MWe)']*fr['ANR CAPEX ($/MWe)']*(1-itc_anr)\n",
    "fr['Annual ANR CAPEX'] = fr['Tot ANR CAPEX']*fr['ANR CRF']\n",
    "fr['Tot H2 CAPEX'] = fr['Depl. H2 Cap. (MWe)']*fr['H2 CAPEX ($/MWe)']*(1-itc_h2)\n",
    "fr['Annual H2 CAPEX'] = fr['Tot H2 CAPEX']*fr['H2 CRF']\n",
    "fr['Annual ANR-H2 CAPEX'] = fr['Annual ANR CAPEX']+fr['Annual H2 CAPEX']\n",
    "\n",
    "## FOM\n",
    "fr['ANR FOM'] = fr['Depl. ANR Cap. (MWe)']*fr['ANR FOM ($/MWe-year)']\n",
    "fr['H2 FOM'] = fr['Depl. H2 Cap. (MWe)']*fr['H2 FOM ($/MWe-year)']\n",
    "fr['ANR-H2 FOM'] = fr['ANR FOM']+fr['H2 FOM']\n",
    "\n",
    "## VOM\n",
    "fr['ANR VOM'] =fr['Remaining H2 Dem. (kg/h)']*8760*fr['Eq tot H2ElecCons (MWhe/kgh2)']*fr['ANR VOM ($/MWhe)']\n",
    "fr['H2 VOM'] =fr['Remaining H2 Dem. (kg/h)']*8760*fr['H2 VOM ($/MWhe)']\n",
    "fr['ANR-H2 VOM'] = fr['ANR VOM']+fr['H2 VOM']\n",
    "\n",
    "## Conversion costs\n",
    "gf_crf = IR/ (1 - (1/(1+IR)**utils.GFLT) ) \n",
    "fr['Conversion'] = utils.GFCAPEX*gf_crf*(1-itc_h2)*fr['Remaining_Heat_MW']\n",
    "fr['Conversion total'] = utils.GFCAPEX*(1-itc_h2)*fr['Remaining_Heat_MW']\n",
    "\n",
    "# Initial investment \n",
    "fr['Initial investment ($)'] = fr['Conversion total']+fr['Tot ANR CAPEX']+fr['Tot H2 CAPEX']\n",
    "\n",
    "# Total cost\n",
    "fr['ANR-H2 Total Cost ($/year)'] = fr['Annual ANR-H2 CAPEX'] + fr['ANR-H2 FOM'] + fr['ANR-H2 VOM'] + fr['Conversion']\n"
   ]
  },
  {
   "cell_type": "code",
   "execution_count": 93,
   "metadata": {},
   "outputs": [],
   "source": [
    "# Compute revenues in $/year\n",
    "# Avoided NG costs\n",
    "fr['NG Mult (MMBtu/MJ)'] = fr.apply(lambda x: compute_ng_multiplier(x['Remaining_temp_degC']), axis=1) \n",
    "\n",
    "fr['Avoided NG Cost'] = fr['NG price ($/MMBtu)']*fr['NG Mult (MMBtu/MJ)']*fr['Remaining_Heat_MW']*utils.mwh_to_mj*8760\n",
    "\n",
    "# H2 PTC\n",
    "fr['H2 PTC'] = utils.h2_ptc*fr['Remaining H2 Dem. (kg/h)']*8760\n",
    "\n",
    "# Compute total deployed ANR capacity \n",
    "fr['Depl. ANR Cap. (MWe)'] = fr['Depl. ANR Cap. (MWe)']+fr[ 'SMR_Capacity_e']\n",
    "fr['Depl. ANR Cap. (MWt)'] = fr['Depl. ANR Cap. (MWt)']+fr[ 'SMR_Capacity']\n",
    "fr['Surplus SMR Cap. (MWe)'] = fr['Surplus SMR Cap. (MWe)']+fr['Surplus_Capacity_e']\n",
    "fr['Surplus ANR Cap. (MWt)'] = fr['Surplus ANR Cap. (MWt)']+fr['Surplus_Capacity']\n",
    "fr['ANR Modules'] = fr['ANR Modules']+fr['Modules']\n"
   ]
  },
  {
   "cell_type": "code",
   "execution_count": 94,
   "metadata": {},
   "outputs": [],
   "source": [
    "def compute_average_electricity_prices(cambium_scenario, year):\n",
    "  folder = f'./input_data/cambium_{cambium_scenario.lower()}_state_hourly_electricity_prices'\n",
    "  list_csv_files = glob.glob(folder+'/Cambium*.csv')\n",
    "  state_prices = pd.DataFrame(columns=['average price ($/MWhe)', 'state'])\n",
    "  state_prices.set_index('state', inplace=True)\n",
    "  for file in list_csv_files:\n",
    "    if str(year) in file:\n",
    "      state = file.split('_')[-2]\n",
    "      avg_price = pd.read_csv(file, skiprows=5)['energy_cost_enduse'].mean()\n",
    "      state_prices.loc[state, 'average price ($/MWhe)'] = avg_price\n",
    "  state_prices.to_excel(f'./results/average_electricity_prices_{cambium_scenario}_{year}.xlsx')\n",
    "\n",
    "\n",
    "def compute_cogen(df, surplus_cap_col_name, state_col_name):\n",
    "  try:\n",
    "    elec_prices_df = pd.read_excel(f'./results/average_electricity_prices_{cambium_scenario}_{year}.xlsx', index_col=0)\n",
    "  except FileNotFoundError:\n",
    "    compute_average_electricity_prices(cambium_scenario, year)\n",
    "    elec_prices_df = pd.read_excel(f'./results/average_electricity_prices_{cambium_scenario}_{year}.xlsx', index_col=0)\n",
    "  df['Electricity revenues ($/y)'] = df.apply(lambda x: x[surplus_cap_col_name]*elec_prices_df.loc[x[state_col_name]]*8760, axis=1)\n",
    "  return df\n",
    "  "
   ]
  },
  {
   "cell_type": "code",
   "execution_count": 95,
   "metadata": {},
   "outputs": [],
   "source": [
    "# Revenues = - (Cost of ANR+Cost of ANR-H2)+ Avoided cost of NG +H2 PTC Revenues\n",
    "if with_PTC:\n",
    "  fr['Net Ann. Rev. ($/year)'] = -fr['ANR-H2 Total Cost ($/year)']+fr['H2 PTC']+fr['Avoided NG Cost']\\\n",
    "                                      +fr[f'ANR Net Ann. Rev. {OAK} ($/year)']\n",
    "else:\n",
    "  fr['Net Ann. Rev. ($/year)'] = -fr['ANR-H2 Total Cost ($/year)']+fr['Avoided NG Cost']\\\n",
    "                                      +fr[f'ANR Net Ann. Rev. {OAK} ($/year)']\n",
    "if cogen: \n",
    "  fr = compute_cogen(fr, 'Surplus SMR Cap. (MWe)', 'STATE')\n",
    "  fr['Net Ann. Rev. ($/year)'] += fr['Electricity revenues ($/y)']\n",
    "\n",
    "fr.to_csv(f'./results/process_heat/anr+anrh2_full_{OAK}_{cogen_tag}_PTC_{with_PTC}.csv')\n"
   ]
  },
  {
   "cell_type": "code",
   "execution_count": 96,
   "metadata": {},
   "outputs": [],
   "source": [
    "# Compute IRR\n",
    "fr['IRR w PTC'] = fr.apply(lambda x: utils.calculate_irr(x['Initial investment ($)'], x['Electricity revenues ($/y)'], x['H2 PTC'], x['Avoided NG Cost']), axis=1)\n",
    "fr['IRR wo PTC'] = fr.apply(lambda x: utils.calculate_irr(x['Initial investment ($)'], x['Electricity revenues ($/y)'], x['H2 PTC'], x['Avoided NG Cost'], ptc=False), axis=1)\n"
   ]
  },
  {
   "cell_type": "code",
   "execution_count": 97,
   "metadata": {},
   "outputs": [
    {
     "name": "stdout",
     "output_type": "stream",
     "text": [
      "23502 7834\n"
     ]
    }
   ],
   "source": [
    "# Select best hydrogen technology\n",
    "# Select h2 tech corresponding to the maximum net annual revenue\n",
    "fr.reset_index(inplace=True, drop=True)\n",
    "idx = fr.groupby(['FACILITY_ID', 'Remaining_temp_degC', 'ANR'])['Net Ann. Rev. ($/year)'].idxmax()\n",
    "max_h2 = fr.loc[idx]\n",
    "print(len(fr), len(max_h2))\n",
    "fr = max_h2  "
   ]
  },
  {
   "cell_type": "code",
   "execution_count": 98,
   "metadata": {},
   "outputs": [],
   "source": [
    "# Total avoided NG cost\n",
    "fr['Avoided NG Cost ($/y)'] = fr['Avoided NG Cost']+fr['Revenues']\n",
    "\n",
    "fr.drop(columns=['SMR_Capacity_e', 'SMR_Capacity', 'Surplus_Capacity', 'Surplus_Capacity_e','H2 CRF',  'H2Cap (MWe)',\n",
    "       'H2Cap (kgh2/h)', 'H2ElecCons (MWhe/kgh2)', 'H2HeatCons (MWht/kgh2)',\n",
    "       'Eq tot H2ElecCons (MWhe/kgh2)', 'Eq tot H2HeatCons (MWht/kgh2)',\n",
    "       'H2 CAPEX ($/MWe)', 'H2 FOM ($/MWe-year)', 'H2 VOM ($/MWhe)',\n",
    "       'Life (y)_x', 'ANR Th Eff', 'Reactor_y','Reactor_x', 'Type', 'Power in MWe', 'Power in MWt', 'MSL in MWe',\n",
    "       'Thermal Efficiency', 'Thermal transfer efficiency', 'MDT in hours',\n",
    "       'Ramp Rate (fraction of capacity/hr)', 'Ramp Rate (MW/hr)',\n",
    "       'Outlet Temp (C)','ANR FOM ($/MWe-year)',\n",
    "       'Max Modules', 'ANR VOM ($/MWhe)', 'Start Cost ($)', 'Life (y)_y', 'NG Mult (MMBtu/MJ)', 'Avoided NG Cost', 'Revenues',\n",
    "       'Modules',  'NG_batch','NG_rem', 'NG_batch_ratio', 'NG_rem_ratio',], inplace=True)\n"
   ]
  },
  {
   "cell_type": "code",
   "execution_count": 99,
   "metadata": {},
   "outputs": [],
   "source": [
    "fr.to_csv(f'./results/process_heat/anr+anrh2_after_h2_opt_{OAK}_{cogen_tag}_PTC_{with_PTC}.csv')"
   ]
  },
  {
   "cell_type": "markdown",
   "metadata": {},
   "source": [
    "## Select best ANR design for each facility"
   ]
  },
  {
   "cell_type": "code",
   "execution_count": 100,
   "metadata": {},
   "outputs": [
    {
     "name": "stdout",
     "output_type": "stream",
     "text": [
      "7834 913\n"
     ]
    },
    {
     "data": {
      "text/html": [
       "<div>\n",
       "<style scoped>\n",
       "    .dataframe tbody tr th:only-of-type {\n",
       "        vertical-align: middle;\n",
       "    }\n",
       "\n",
       "    .dataframe tbody tr th {\n",
       "        vertical-align: top;\n",
       "    }\n",
       "\n",
       "    .dataframe thead th {\n",
       "        text-align: right;\n",
       "    }\n",
       "</style>\n",
       "<table border=\"1\" class=\"dataframe\">\n",
       "  <thead>\n",
       "    <tr style=\"text-align: right;\">\n",
       "      <th></th>\n",
       "      <th>FACILITY_ID</th>\n",
       "      <th>STATE</th>\n",
       "      <th>CITY</th>\n",
       "      <th>Batch_Temp_degC</th>\n",
       "      <th>Highest_Temp_served_degC</th>\n",
       "      <th>Emissions_mmtco2/y</th>\n",
       "      <th>Heat_demand_MWh/hr</th>\n",
       "      <th>Remaining_Heat_MW</th>\n",
       "      <th>Remaining_temp_degC</th>\n",
       "      <th>Temp_Req</th>\n",
       "      <th>...</th>\n",
       "      <th>Conversion</th>\n",
       "      <th>Conversion total</th>\n",
       "      <th>Initial investment ($)</th>\n",
       "      <th>ANR-H2 Total Cost ($/year)</th>\n",
       "      <th>H2 PTC</th>\n",
       "      <th>Net Ann. Rev. ($/year)</th>\n",
       "      <th>Electricity revenues ($/y)</th>\n",
       "      <th>IRR w PTC</th>\n",
       "      <th>IRR wo PTC</th>\n",
       "      <th>Avoided NG Cost ($/y)</th>\n",
       "    </tr>\n",
       "  </thead>\n",
       "  <tbody>\n",
       "    <tr>\n",
       "      <th>0</th>\n",
       "      <td>1000022</td>\n",
       "      <td>TX</td>\n",
       "      <td>TEXAS CITY</td>\n",
       "      <td>421.391304</td>\n",
       "      <td>900</td>\n",
       "      <td>0.028326</td>\n",
       "      <td>19.626266</td>\n",
       "      <td>0.000000</td>\n",
       "      <td>0.0</td>\n",
       "      <td>949</td>\n",
       "      <td>...</td>\n",
       "      <td>0.000000e+00</td>\n",
       "      <td>0.000000e+00</td>\n",
       "      <td>0.000000e+00</td>\n",
       "      <td>0.000000e+00</td>\n",
       "      <td>0.000000e+00</td>\n",
       "      <td>-3.845039e+06</td>\n",
       "      <td>1.179847e+04</td>\n",
       "      <td>NaN</td>\n",
       "      <td>NaN</td>\n",
       "      <td>3.269682e+06</td>\n",
       "    </tr>\n",
       "    <tr>\n",
       "      <th>1</th>\n",
       "      <td>1000025</td>\n",
       "      <td>LA</td>\n",
       "      <td>PORT ALLEN</td>\n",
       "      <td>220.000000</td>\n",
       "      <td>220</td>\n",
       "      <td>0.018848</td>\n",
       "      <td>13.058870</td>\n",
       "      <td>21.688683</td>\n",
       "      <td>600.0</td>\n",
       "      <td>301</td>\n",
       "      <td>...</td>\n",
       "      <td>2.657734e+06</td>\n",
       "      <td>2.034399e+07</td>\n",
       "      <td>3.662804e+08</td>\n",
       "      <td>4.586964e+07</td>\n",
       "      <td>2.134480e+07</td>\n",
       "      <td>-2.699764e+06</td>\n",
       "      <td>6.408749e+07</td>\n",
       "      <td>0.23</td>\n",
       "      <td>0.18</td>\n",
       "      <td>3.772574e+06</td>\n",
       "    </tr>\n",
       "    <tr>\n",
       "      <th>2</th>\n",
       "      <td>1000029</td>\n",
       "      <td>WA</td>\n",
       "      <td>SEATTLE</td>\n",
       "      <td>180.000000</td>\n",
       "      <td>180</td>\n",
       "      <td>0.005027</td>\n",
       "      <td>3.483160</td>\n",
       "      <td>23.098853</td>\n",
       "      <td>1100.0</td>\n",
       "      <td>301</td>\n",
       "      <td>...</td>\n",
       "      <td>2.830536e+06</td>\n",
       "      <td>2.166672e+07</td>\n",
       "      <td>3.790586e+08</td>\n",
       "      <td>5.020056e+07</td>\n",
       "      <td>3.159141e+07</td>\n",
       "      <td>-5.894163e+06</td>\n",
       "      <td>5.575849e+07</td>\n",
       "      <td>0.22</td>\n",
       "      <td>0.15</td>\n",
       "      <td>2.628773e+06</td>\n",
       "    </tr>\n",
       "    <tr>\n",
       "      <th>3</th>\n",
       "      <td>1000035</td>\n",
       "      <td>OH</td>\n",
       "      <td>GREENVILLE</td>\n",
       "      <td>233.000000</td>\n",
       "      <td>233</td>\n",
       "      <td>0.054328</td>\n",
       "      <td>37.641536</td>\n",
       "      <td>82.913112</td>\n",
       "      <td>450.0</td>\n",
       "      <td>301</td>\n",
       "      <td>...</td>\n",
       "      <td>1.016018e+07</td>\n",
       "      <td>7.777250e+07</td>\n",
       "      <td>8.050533e+08</td>\n",
       "      <td>1.095864e+08</td>\n",
       "      <td>7.526666e+07</td>\n",
       "      <td>6.126617e+06</td>\n",
       "      <td>7.094032e+07</td>\n",
       "      <td>0.17</td>\n",
       "      <td>0.10</td>\n",
       "      <td>1.647214e+07</td>\n",
       "    </tr>\n",
       "    <tr>\n",
       "      <th>4</th>\n",
       "      <td>1000041</td>\n",
       "      <td>WI</td>\n",
       "      <td>MILWAUKEE</td>\n",
       "      <td>328.087109</td>\n",
       "      <td>505</td>\n",
       "      <td>0.029349</td>\n",
       "      <td>20.335118</td>\n",
       "      <td>7.202021</td>\n",
       "      <td>800.0</td>\n",
       "      <td>629</td>\n",
       "      <td>...</td>\n",
       "      <td>8.825365e+05</td>\n",
       "      <td>6.755496e+06</td>\n",
       "      <td>3.391536e+08</td>\n",
       "      <td>3.897299e+07</td>\n",
       "      <td>7.983294e+06</td>\n",
       "      <td>-4.238305e+06</td>\n",
       "      <td>6.835642e+07</td>\n",
       "      <td>0.22</td>\n",
       "      <td>0.20</td>\n",
       "      <td>4.705563e+06</td>\n",
       "    </tr>\n",
       "    <tr>\n",
       "      <th>...</th>\n",
       "      <td>...</td>\n",
       "      <td>...</td>\n",
       "      <td>...</td>\n",
       "      <td>...</td>\n",
       "      <td>...</td>\n",
       "      <td>...</td>\n",
       "      <td>...</td>\n",
       "      <td>...</td>\n",
       "      <td>...</td>\n",
       "      <td>...</td>\n",
       "      <td>...</td>\n",
       "      <td>...</td>\n",
       "      <td>...</td>\n",
       "      <td>...</td>\n",
       "      <td>...</td>\n",
       "      <td>...</td>\n",
       "      <td>...</td>\n",
       "      <td>...</td>\n",
       "      <td>...</td>\n",
       "      <td>...</td>\n",
       "      <td>...</td>\n",
       "    </tr>\n",
       "    <tr>\n",
       "      <th>908</th>\n",
       "      <td>1011979</td>\n",
       "      <td>IN</td>\n",
       "      <td>Valparaiso</td>\n",
       "      <td>310.329136</td>\n",
       "      <td>505</td>\n",
       "      <td>0.017979</td>\n",
       "      <td>12.456710</td>\n",
       "      <td>6.467907</td>\n",
       "      <td>800.0</td>\n",
       "      <td>629</td>\n",
       "      <td>...</td>\n",
       "      <td>7.925781e+05</td>\n",
       "      <td>6.066897e+06</td>\n",
       "      <td>3.374235e+08</td>\n",
       "      <td>3.852452e+07</td>\n",
       "      <td>7.169543e+06</td>\n",
       "      <td>-9.234075e+05</td>\n",
       "      <td>7.339348e+07</td>\n",
       "      <td>0.24</td>\n",
       "      <td>0.22</td>\n",
       "      <td>3.050262e+06</td>\n",
       "    </tr>\n",
       "    <tr>\n",
       "      <th>909</th>\n",
       "      <td>1012002</td>\n",
       "      <td>OH</td>\n",
       "      <td>Cincinnati</td>\n",
       "      <td>328.087109</td>\n",
       "      <td>505</td>\n",
       "      <td>0.000226</td>\n",
       "      <td>0.156726</td>\n",
       "      <td>0.055507</td>\n",
       "      <td>800.0</td>\n",
       "      <td>629</td>\n",
       "      <td>...</td>\n",
       "      <td>6.801855e+03</td>\n",
       "      <td>5.206572e+04</td>\n",
       "      <td>3.234812e+08</td>\n",
       "      <td>3.488934e+07</td>\n",
       "      <td>6.152856e+04</td>\n",
       "      <td>-3.186739e+05</td>\n",
       "      <td>8.001915e+07</td>\n",
       "      <td>0.25</td>\n",
       "      <td>0.25</td>\n",
       "      <td>3.626655e+04</td>\n",
       "    </tr>\n",
       "    <tr>\n",
       "      <th>910</th>\n",
       "      <td>1012019</td>\n",
       "      <td>IA</td>\n",
       "      <td>Tama</td>\n",
       "      <td>451.510481</td>\n",
       "      <td>800</td>\n",
       "      <td>0.023461</td>\n",
       "      <td>16.255564</td>\n",
       "      <td>0.000000</td>\n",
       "      <td>0.0</td>\n",
       "      <td>949</td>\n",
       "      <td>...</td>\n",
       "      <td>0.000000e+00</td>\n",
       "      <td>0.000000e+00</td>\n",
       "      <td>0.000000e+00</td>\n",
       "      <td>0.000000e+00</td>\n",
       "      <td>0.000000e+00</td>\n",
       "      <td>-3.761425e+06</td>\n",
       "      <td>2.870713e+05</td>\n",
       "      <td>NaN</td>\n",
       "      <td>NaN</td>\n",
       "      <td>3.078023e+06</td>\n",
       "    </tr>\n",
       "    <tr>\n",
       "      <th>911</th>\n",
       "      <td>1012036</td>\n",
       "      <td>NE</td>\n",
       "      <td>Mead</td>\n",
       "      <td>382.244726</td>\n",
       "      <td>450</td>\n",
       "      <td>0.022998</td>\n",
       "      <td>15.934422</td>\n",
       "      <td>0.000000</td>\n",
       "      <td>0.0</td>\n",
       "      <td>629</td>\n",
       "      <td>...</td>\n",
       "      <td>0.000000e+00</td>\n",
       "      <td>0.000000e+00</td>\n",
       "      <td>0.000000e+00</td>\n",
       "      <td>0.000000e+00</td>\n",
       "      <td>0.000000e+00</td>\n",
       "      <td>-3.938929e+06</td>\n",
       "      <td>2.744148e+05</td>\n",
       "      <td>NaN</td>\n",
       "      <td>NaN</td>\n",
       "      <td>2.913175e+06</td>\n",
       "    </tr>\n",
       "    <tr>\n",
       "      <th>912</th>\n",
       "      <td>1012089</td>\n",
       "      <td>CA</td>\n",
       "      <td>Ceres</td>\n",
       "      <td>233.000000</td>\n",
       "      <td>233</td>\n",
       "      <td>0.020767</td>\n",
       "      <td>14.388662</td>\n",
       "      <td>31.693944</td>\n",
       "      <td>450.0</td>\n",
       "      <td>301</td>\n",
       "      <td>...</td>\n",
       "      <td>3.883780e+06</td>\n",
       "      <td>2.972892e+07</td>\n",
       "      <td>3.839966e+08</td>\n",
       "      <td>5.011550e+07</td>\n",
       "      <td>2.877105e+07</td>\n",
       "      <td>-2.577482e+06</td>\n",
       "      <td>5.786522e+07</td>\n",
       "      <td>0.23</td>\n",
       "      <td>0.16</td>\n",
       "      <td>6.987099e+06</td>\n",
       "    </tr>\n",
       "  </tbody>\n",
       "</table>\n",
       "<p>913 rows × 57 columns</p>\n",
       "</div>"
      ],
      "text/plain": [
       "     FACILITY_ID STATE        CITY  Batch_Temp_degC  Highest_Temp_served_degC  \\\n",
       "0        1000022    TX  TEXAS CITY       421.391304                       900   \n",
       "1        1000025    LA  PORT ALLEN       220.000000                       220   \n",
       "2        1000029    WA     SEATTLE       180.000000                       180   \n",
       "3        1000035    OH  GREENVILLE       233.000000                       233   \n",
       "4        1000041    WI   MILWAUKEE       328.087109                       505   \n",
       "..           ...   ...         ...              ...                       ...   \n",
       "908      1011979    IN  Valparaiso       310.329136                       505   \n",
       "909      1012002    OH  Cincinnati       328.087109                       505   \n",
       "910      1012019    IA        Tama       451.510481                       800   \n",
       "911      1012036    NE        Mead       382.244726                       450   \n",
       "912      1012089    CA       Ceres       233.000000                       233   \n",
       "\n",
       "     Emissions_mmtco2/y  Heat_demand_MWh/hr  Remaining_Heat_MW  \\\n",
       "0              0.028326           19.626266           0.000000   \n",
       "1              0.018848           13.058870          21.688683   \n",
       "2              0.005027            3.483160          23.098853   \n",
       "3              0.054328           37.641536          82.913112   \n",
       "4              0.029349           20.335118           7.202021   \n",
       "..                  ...                 ...                ...   \n",
       "908            0.017979           12.456710           6.467907   \n",
       "909            0.000226            0.156726           0.055507   \n",
       "910            0.023461           16.255564           0.000000   \n",
       "911            0.022998           15.934422           0.000000   \n",
       "912            0.020767           14.388662          31.693944   \n",
       "\n",
       "     Remaining_temp_degC  Temp_Req  ...    Conversion  Conversion total  \\\n",
       "0                    0.0       949  ...  0.000000e+00      0.000000e+00   \n",
       "1                  600.0       301  ...  2.657734e+06      2.034399e+07   \n",
       "2                 1100.0       301  ...  2.830536e+06      2.166672e+07   \n",
       "3                  450.0       301  ...  1.016018e+07      7.777250e+07   \n",
       "4                  800.0       629  ...  8.825365e+05      6.755496e+06   \n",
       "..                   ...       ...  ...           ...               ...   \n",
       "908                800.0       629  ...  7.925781e+05      6.066897e+06   \n",
       "909                800.0       629  ...  6.801855e+03      5.206572e+04   \n",
       "910                  0.0       949  ...  0.000000e+00      0.000000e+00   \n",
       "911                  0.0       629  ...  0.000000e+00      0.000000e+00   \n",
       "912                450.0       301  ...  3.883780e+06      2.972892e+07   \n",
       "\n",
       "     Initial investment ($)  ANR-H2 Total Cost ($/year)        H2 PTC  \\\n",
       "0              0.000000e+00                0.000000e+00  0.000000e+00   \n",
       "1              3.662804e+08                4.586964e+07  2.134480e+07   \n",
       "2              3.790586e+08                5.020056e+07  3.159141e+07   \n",
       "3              8.050533e+08                1.095864e+08  7.526666e+07   \n",
       "4              3.391536e+08                3.897299e+07  7.983294e+06   \n",
       "..                      ...                         ...           ...   \n",
       "908            3.374235e+08                3.852452e+07  7.169543e+06   \n",
       "909            3.234812e+08                3.488934e+07  6.152856e+04   \n",
       "910            0.000000e+00                0.000000e+00  0.000000e+00   \n",
       "911            0.000000e+00                0.000000e+00  0.000000e+00   \n",
       "912            3.839966e+08                5.011550e+07  2.877105e+07   \n",
       "\n",
       "     Net Ann. Rev. ($/year)  Electricity revenues ($/y)  IRR w PTC  \\\n",
       "0             -3.845039e+06                1.179847e+04        NaN   \n",
       "1             -2.699764e+06                6.408749e+07       0.23   \n",
       "2             -5.894163e+06                5.575849e+07       0.22   \n",
       "3              6.126617e+06                7.094032e+07       0.17   \n",
       "4             -4.238305e+06                6.835642e+07       0.22   \n",
       "..                      ...                         ...        ...   \n",
       "908           -9.234075e+05                7.339348e+07       0.24   \n",
       "909           -3.186739e+05                8.001915e+07       0.25   \n",
       "910           -3.761425e+06                2.870713e+05        NaN   \n",
       "911           -3.938929e+06                2.744148e+05        NaN   \n",
       "912           -2.577482e+06                5.786522e+07       0.23   \n",
       "\n",
       "     IRR wo PTC  Avoided NG Cost ($/y)  \n",
       "0           NaN           3.269682e+06  \n",
       "1          0.18           3.772574e+06  \n",
       "2          0.15           2.628773e+06  \n",
       "3          0.10           1.647214e+07  \n",
       "4          0.20           4.705563e+06  \n",
       "..          ...                    ...  \n",
       "908        0.22           3.050262e+06  \n",
       "909        0.25           3.626655e+04  \n",
       "910         NaN           3.078023e+06  \n",
       "911         NaN           2.913175e+06  \n",
       "912        0.16           6.987099e+06  \n",
       "\n",
       "[913 rows x 57 columns]"
      ]
     },
     "execution_count": 100,
     "metadata": {},
     "output_type": "execute_result"
    }
   ],
   "source": [
    "# Select ANR design corresponding to the maximum net annual revenue\n",
    "fr.reset_index(inplace=True, drop=True)\n",
    "idx = fr.groupby(['FACILITY_ID'])['Net Ann. Rev. ($/year)'].idxmax()\n",
    "max_anr = fr.loc[idx]\n",
    "print(len(fr), len(max_anr))\n",
    "fr = max_anr.reset_index(drop=True)     \n",
    "fr"
   ]
  },
  {
   "cell_type": "code",
   "execution_count": 101,
   "metadata": {},
   "outputs": [],
   "source": [
    "fr['Pathway'] = 'SMR+SMR-H2'\n",
    "fr['Pathway Net Ann. Rev. ($/year)'] = fr['Net Ann. Rev. ($/year)']\n",
    "fr = fr.merge(loc_data, on=['CITY', 'STATE'])\n",
    "fr.to_csv(f'./results/process_heat/anr+anrh2_best_{OAK}_{cogen_tag}_PTC_{with_PTC}.csv')"
   ]
  },
  {
   "cell_type": "markdown",
   "metadata": {},
   "source": [
    "# ANR-H2 Analysis"
   ]
  },
  {
   "cell_type": "markdown",
   "metadata": {},
   "source": [
    "## Load demand data"
   ]
  },
  {
   "cell_type": "code",
   "execution_count": 102,
   "metadata": {},
   "outputs": [
    {
     "name": "stdout",
     "output_type": "stream",
     "text": [
      "2092.923621721449\n",
      "0.0005791400666693657\n"
     ]
    }
   ],
   "source": [
    "nrel_data = pd.read_csv('./input_data/direct_heat_maxv/NREL_base_facilities_2.csv', encoding = \"ISO-8859-1\")\n",
    "nrel_data.columns\n",
    "nrel_data = nrel_data[['FACILITY_ID', 'FUEL_TYPE',\n",
    "       'FUEL_TYPE_BLEND', 'FUEL_TYPE_OTHER', \n",
    "       'Natural_gas', 'Other', 'REPORTING_YEAR', 'CITY',\n",
    "       'STATE', 'Temp_degC', 'Total', 'UNIT_NAME', 'MMTCO2E']]\n",
    "nrel_data = nrel_data.loc[nrel_data.FUEL_TYPE.isin(['Natural Gas (Weighted U.S. Average)'])]\n",
    "nrel_data = nrel_data[nrel_data.REPORTING_YEAR ==2015]\n",
    "nrel_data.drop(nrel_data.index[(nrel_data[\"Total\"] ==0)],axis=0,inplace=True)\n",
    "nrel_data.drop(columns=['FUEL_TYPE',\n",
    "       'FUEL_TYPE_BLEND', 'FUEL_TYPE_OTHER', \n",
    "       'Natural_gas', 'Other', 'REPORTING_YEAR'], inplace=True)\n",
    "# Group units with same temperature in same facility\n",
    "nrel_data['Heat Demand (MW)'] = nrel_data.apply(lambda x: x['Total']*1.1*277.778/8670, axis=1)\n",
    "nrel_data = nrel_data.groupby(['FACILITY_ID', 'STATE', 'CITY', 'Temp_degC']).sum(numeric_only=True)\n",
    "# compute MW from Total in TJ/y, distribution losses add 10%\n",
    "\n",
    "nrel_data.reset_index(inplace=True)\n",
    "print(max(nrel_data['Heat Demand (MW)']))\n",
    "print(min(nrel_data['Heat Demand (MW)']))"
   ]
  },
  {
   "cell_type": "markdown",
   "metadata": {},
   "source": [
    "## Compute total equivalent Hydrogen demand"
   ]
  },
  {
   "cell_type": "code",
   "execution_count": 103,
   "metadata": {},
   "outputs": [],
   "source": [
    "# For each facility, temperature and heat compute hydrogen demand and sum up for each facility (sum emissions too)\n",
    "nrel_data['Total H2 Dem. (kg/h)'] = nrel_data.apply(lambda x:compute_h2_demand(x['Heat Demand (MW)'], x['Temp_degC']), axis=1)\n",
    "nrel_data['NG Mult (MMBtu/MJ)'] = nrel_data.apply(lambda x: compute_ng_multiplier(x['Temp_degC']), axis=1) \n",
    "nrel_data = nrel_data.merge(ng_prices, left_on='STATE', right_on='state')\n",
    "nrel_data['Avoided NG Cost ($/y)'] = nrel_data['NG price ($/MMBtu)']*nrel_data['NG Mult (MMBtu/MJ)']*nrel_data['Heat Demand (MW)']*utils.mwh_to_mj*8760\n"
   ]
  },
  {
   "cell_type": "code",
   "execution_count": 104,
   "metadata": {},
   "outputs": [],
   "source": [
    "# Get temperatures stats\n",
    "temps = nrel_data[['FACILITY_ID', 'Temp_degC']]\n",
    "max_temp = temps.groupby(['FACILITY_ID']).max()\n",
    "max_temp.rename(columns={'Temp_degC':'max_temp_degC'}, inplace=True)\n",
    "max_temp.reset_index(inplace=True)\n",
    "mean_temp = temps.groupby(['FACILITY_ID']).mean()\n",
    "mean_temp.rename(columns={'Temp_degC':'meam_temp_degC'}, inplace=True)\n",
    "mean_temp.reset_index(inplace=True)\n",
    "min_temp = temps.groupby(['FACILITY_ID']).min()\n",
    "min_temp.rename(columns={'Temp_degC':'min_temp_degC'}, inplace=True)\n",
    "min_temp.reset_index(inplace=True)"
   ]
  },
  {
   "cell_type": "code",
   "execution_count": 105,
   "metadata": {},
   "outputs": [
    {
     "data": {
      "text/html": [
       "<div>\n",
       "<style scoped>\n",
       "    .dataframe tbody tr th:only-of-type {\n",
       "        vertical-align: middle;\n",
       "    }\n",
       "\n",
       "    .dataframe tbody tr th {\n",
       "        vertical-align: top;\n",
       "    }\n",
       "\n",
       "    .dataframe thead th {\n",
       "        text-align: right;\n",
       "    }\n",
       "</style>\n",
       "<table border=\"1\" class=\"dataframe\">\n",
       "  <thead>\n",
       "    <tr style=\"text-align: right;\">\n",
       "      <th></th>\n",
       "      <th>FACILITY_ID</th>\n",
       "      <th>STATE</th>\n",
       "      <th>CITY</th>\n",
       "      <th>Total</th>\n",
       "      <th>MMTCO2E</th>\n",
       "      <th>Heat Demand (MW)</th>\n",
       "      <th>Total H2 Dem. (kg/h)</th>\n",
       "      <th>NG price ($/MMBtu)</th>\n",
       "      <th>Avoided NG Cost ($/y)</th>\n",
       "      <th>max_temp_degC</th>\n",
       "      <th>meam_temp_degC</th>\n",
       "      <th>min_temp_degC</th>\n",
       "      <th>latitude</th>\n",
       "      <th>longitude</th>\n",
       "    </tr>\n",
       "  </thead>\n",
       "  <tbody>\n",
       "    <tr>\n",
       "      <th>0</th>\n",
       "      <td>1000022</td>\n",
       "      <td>TX</td>\n",
       "      <td>TEXAS CITY</td>\n",
       "      <td>562.666746</td>\n",
       "      <td>0.028326</td>\n",
       "      <td>19.829999</td>\n",
       "      <td>691.547721</td>\n",
       "      <td>8.192015</td>\n",
       "      <td>1.809758e+06</td>\n",
       "      <td>900</td>\n",
       "      <td>580.0</td>\n",
       "      <td>260</td>\n",
       "      <td>29.396013</td>\n",
       "      <td>-94.917548</td>\n",
       "    </tr>\n",
       "    <tr>\n",
       "      <th>1</th>\n",
       "      <td>1000025</td>\n",
       "      <td>LA</td>\n",
       "      <td>PORT ALLEN</td>\n",
       "      <td>996.179984</td>\n",
       "      <td>0.050151</td>\n",
       "      <td>35.108255</td>\n",
       "      <td>1227.944683</td>\n",
       "      <td>8.192015</td>\n",
       "      <td>3.145638e+06</td>\n",
       "      <td>600</td>\n",
       "      <td>410.0</td>\n",
       "      <td>220</td>\n",
       "      <td>30.453350</td>\n",
       "      <td>-91.210057</td>\n",
       "    </tr>\n",
       "    <tr>\n",
       "      <th>2</th>\n",
       "      <td>1000029</td>\n",
       "      <td>WA</td>\n",
       "      <td>SEATTLE</td>\n",
       "      <td>762.081540</td>\n",
       "      <td>0.038366</td>\n",
       "      <td>26.857951</td>\n",
       "      <td>1321.254426</td>\n",
       "      <td>11.361723</td>\n",
       "      <td>2.432455e+06</td>\n",
       "      <td>1100</td>\n",
       "      <td>640.0</td>\n",
       "      <td>180</td>\n",
       "      <td>47.603832</td>\n",
       "      <td>-122.330062</td>\n",
       "    </tr>\n",
       "    <tr>\n",
       "      <th>3</th>\n",
       "      <td>1000035</td>\n",
       "      <td>OH</td>\n",
       "      <td>GREENVILLE</td>\n",
       "      <td>3456.189395</td>\n",
       "      <td>0.173995</td>\n",
       "      <td>121.806080</td>\n",
       "      <td>4074.897321</td>\n",
       "      <td>10.238829</td>\n",
       "      <td>1.417124e+07</td>\n",
       "      <td>450</td>\n",
       "      <td>341.5</td>\n",
       "      <td>233</td>\n",
       "      <td>40.102391</td>\n",
       "      <td>-84.633299</td>\n",
       "    </tr>\n",
       "    <tr>\n",
       "      <th>4</th>\n",
       "      <td>1000041</td>\n",
       "      <td>WI</td>\n",
       "      <td>MILWAUKEE</td>\n",
       "      <td>789.464092</td>\n",
       "      <td>0.039744</td>\n",
       "      <td>27.822991</td>\n",
       "      <td>979.133327</td>\n",
       "      <td>25.597073</td>\n",
       "      <td>3.124938e+06</td>\n",
       "      <td>800</td>\n",
       "      <td>386.0</td>\n",
       "      <td>150</td>\n",
       "      <td>43.038648</td>\n",
       "      <td>-87.909075</td>\n",
       "    </tr>\n",
       "    <tr>\n",
       "      <th>...</th>\n",
       "      <td>...</td>\n",
       "      <td>...</td>\n",
       "      <td>...</td>\n",
       "      <td>...</td>\n",
       "      <td>...</td>\n",
       "      <td>...</td>\n",
       "      <td>...</td>\n",
       "      <td>...</td>\n",
       "      <td>...</td>\n",
       "      <td>...</td>\n",
       "      <td>...</td>\n",
       "      <td>...</td>\n",
       "      <td>...</td>\n",
       "      <td>...</td>\n",
       "    </tr>\n",
       "    <tr>\n",
       "      <th>914</th>\n",
       "      <td>1011979</td>\n",
       "      <td>IN</td>\n",
       "      <td>Valparaiso</td>\n",
       "      <td>542.551117</td>\n",
       "      <td>0.027314</td>\n",
       "      <td>19.121066</td>\n",
       "      <td>683.884609</td>\n",
       "      <td>25.597073</td>\n",
       "      <td>2.118479e+06</td>\n",
       "      <td>800</td>\n",
       "      <td>386.0</td>\n",
       "      <td>150</td>\n",
       "      <td>41.467255</td>\n",
       "      <td>-87.060449</td>\n",
       "    </tr>\n",
       "    <tr>\n",
       "      <th>915</th>\n",
       "      <td>1012002</td>\n",
       "      <td>OH</td>\n",
       "      <td>Cincinnati</td>\n",
       "      <td>6.084530</td>\n",
       "      <td>0.000306</td>\n",
       "      <td>0.214436</td>\n",
       "      <td>7.546343</td>\n",
       "      <td>25.597073</td>\n",
       "      <td>2.408441e+04</td>\n",
       "      <td>800</td>\n",
       "      <td>386.0</td>\n",
       "      <td>150</td>\n",
       "      <td>39.101454</td>\n",
       "      <td>-84.512460</td>\n",
       "    </tr>\n",
       "    <tr>\n",
       "      <th>916</th>\n",
       "      <td>1012019</td>\n",
       "      <td>IA</td>\n",
       "      <td>Tama</td>\n",
       "      <td>466.031882</td>\n",
       "      <td>0.023461</td>\n",
       "      <td>16.424307</td>\n",
       "      <td>577.996329</td>\n",
       "      <td>22.921394</td>\n",
       "      <td>1.651868e+06</td>\n",
       "      <td>800</td>\n",
       "      <td>386.0</td>\n",
       "      <td>150</td>\n",
       "      <td>42.056811</td>\n",
       "      <td>-92.543392</td>\n",
       "    </tr>\n",
       "    <tr>\n",
       "      <th>917</th>\n",
       "      <td>1012036</td>\n",
       "      <td>NE</td>\n",
       "      <td>Mead</td>\n",
       "      <td>456.825028</td>\n",
       "      <td>0.022998</td>\n",
       "      <td>16.099831</td>\n",
       "      <td>538.603320</td>\n",
       "      <td>9.168558</td>\n",
       "      <td>1.677300e+06</td>\n",
       "      <td>450</td>\n",
       "      <td>341.5</td>\n",
       "      <td>233</td>\n",
       "      <td>41.226621</td>\n",
       "      <td>-96.489259</td>\n",
       "    </tr>\n",
       "    <tr>\n",
       "      <th>918</th>\n",
       "      <td>1012089</td>\n",
       "      <td>CA</td>\n",
       "      <td>Ceres</td>\n",
       "      <td>1321.145369</td>\n",
       "      <td>0.066511</td>\n",
       "      <td>46.560972</td>\n",
       "      <td>1557.649512</td>\n",
       "      <td>11.361723</td>\n",
       "      <td>6.011110e+06</td>\n",
       "      <td>450</td>\n",
       "      <td>341.5</td>\n",
       "      <td>233</td>\n",
       "      <td>37.594932</td>\n",
       "      <td>-120.957710</td>\n",
       "    </tr>\n",
       "  </tbody>\n",
       "</table>\n",
       "<p>919 rows × 14 columns</p>\n",
       "</div>"
      ],
      "text/plain": [
       "     FACILITY_ID STATE        CITY        Total   MMTCO2E  Heat Demand (MW)  \\\n",
       "0        1000022    TX  TEXAS CITY   562.666746  0.028326         19.829999   \n",
       "1        1000025    LA  PORT ALLEN   996.179984  0.050151         35.108255   \n",
       "2        1000029    WA     SEATTLE   762.081540  0.038366         26.857951   \n",
       "3        1000035    OH  GREENVILLE  3456.189395  0.173995        121.806080   \n",
       "4        1000041    WI   MILWAUKEE   789.464092  0.039744         27.822991   \n",
       "..           ...   ...         ...          ...       ...               ...   \n",
       "914      1011979    IN  Valparaiso   542.551117  0.027314         19.121066   \n",
       "915      1012002    OH  Cincinnati     6.084530  0.000306          0.214436   \n",
       "916      1012019    IA        Tama   466.031882  0.023461         16.424307   \n",
       "917      1012036    NE        Mead   456.825028  0.022998         16.099831   \n",
       "918      1012089    CA       Ceres  1321.145369  0.066511         46.560972   \n",
       "\n",
       "     Total H2 Dem. (kg/h)  NG price ($/MMBtu)  Avoided NG Cost ($/y)  \\\n",
       "0              691.547721            8.192015           1.809758e+06   \n",
       "1             1227.944683            8.192015           3.145638e+06   \n",
       "2             1321.254426           11.361723           2.432455e+06   \n",
       "3             4074.897321           10.238829           1.417124e+07   \n",
       "4              979.133327           25.597073           3.124938e+06   \n",
       "..                    ...                 ...                    ...   \n",
       "914            683.884609           25.597073           2.118479e+06   \n",
       "915              7.546343           25.597073           2.408441e+04   \n",
       "916            577.996329           22.921394           1.651868e+06   \n",
       "917            538.603320            9.168558           1.677300e+06   \n",
       "918           1557.649512           11.361723           6.011110e+06   \n",
       "\n",
       "     max_temp_degC  meam_temp_degC  min_temp_degC   latitude   longitude  \n",
       "0              900           580.0            260  29.396013  -94.917548  \n",
       "1              600           410.0            220  30.453350  -91.210057  \n",
       "2             1100           640.0            180  47.603832 -122.330062  \n",
       "3              450           341.5            233  40.102391  -84.633299  \n",
       "4              800           386.0            150  43.038648  -87.909075  \n",
       "..             ...             ...            ...        ...         ...  \n",
       "914            800           386.0            150  41.467255  -87.060449  \n",
       "915            800           386.0            150  39.101454  -84.512460  \n",
       "916            800           386.0            150  42.056811  -92.543392  \n",
       "917            450           341.5            233  41.226621  -96.489259  \n",
       "918            450           341.5            233  37.594932 -120.957710  \n",
       "\n",
       "[919 rows x 14 columns]"
      ]
     },
     "execution_count": 105,
     "metadata": {},
     "output_type": "execute_result"
    }
   ],
   "source": [
    "nrel_data = nrel_data.groupby(['FACILITY_ID', 'STATE', 'CITY']).sum()\n",
    "nrel_data.drop(columns=['Temp_degC', 'NG Mult (MMBtu/MJ)', 'state', 'year'], inplace=True)\n",
    "nrel_data.reset_index(inplace=True)\n",
    "nrel_data = nrel_data.merge(max_temp, on='FACILITY_ID')\n",
    "nrel_data = nrel_data.merge(mean_temp, on='FACILITY_ID')\n",
    "nrel_data = nrel_data.merge(min_temp, on='FACILITY_ID')\n",
    "nrel_data = nrel_data.merge(loc_data, on=['STATE', 'CITY'])\n",
    "nrel_data"
   ]
  },
  {
   "cell_type": "code",
   "execution_count": 106,
   "metadata": {},
   "outputs": [
    {
     "name": "stdout",
     "output_type": "stream",
     "text": [
      "Total heat demand (MW): 86271.51939050725\n",
      "Total emissions (MMtCO2/y): 123.23556243636855\n"
     ]
    }
   ],
   "source": [
    "# Stats on demand\n",
    "print('Total heat demand (MW): {}'.format(sum(nrel_data['Heat Demand (MW)'])))\n",
    "print('Total emissions (MMtCO2/y): {}'.format(sum(nrel_data.MMTCO2E)))"
   ]
  },
  {
   "cell_type": "markdown",
   "metadata": {},
   "source": [
    "## Combine demand data and ANR-H2 parameters"
   ]
  },
  {
   "cell_type": "code",
   "execution_count": 107,
   "metadata": {},
   "outputs": [
    {
     "data": {
      "text/plain": [
       "Index(['FACILITY_ID', 'STATE', 'CITY', 'Total', 'MMTCO2E', 'Heat Demand (MW)',\n",
       "       'Total H2 Dem. (kg/h)', 'NG price ($/MMBtu)', 'Avoided NG Cost ($/y)',\n",
       "       'max_temp_degC', 'meam_temp_degC', 'min_temp_degC', 'latitude',\n",
       "       'longitude', 'Technology', 'ANR', 'H2Cap (MWe)', 'H2Cap (kgh2/h)',\n",
       "       'H2ElecCons (MWhe/kgh2)', 'H2HeatCons (MWht/kgh2)',\n",
       "       'Eq tot H2ElecCons (MWhe/kgh2)', 'Eq tot H2HeatCons (MWht/kgh2)',\n",
       "       'H2 CAPEX ($/MWe)', 'H2 FOM ($/MWe-year)', 'H2 VOM ($/MWhe)',\n",
       "       'Life (y)_x', 'ANR Th Eff', 'Carbon intensity (kgCO2eq/kgH2)',\n",
       "       'Reactor', 'Type', 'Power in MWe', 'Power in MWt', 'MSL in MWe',\n",
       "       'Thermal Efficiency', 'Thermal transfer efficiency', 'MDT in hours',\n",
       "       'Ramp Rate (fraction of capacity/hr)', 'Ramp Rate (MW/hr)',\n",
       "       'Outlet Temp (C)', 'CAPEX $/MWe_foak', 'FOPEX $/MWe-y_foak',\n",
       "       'Max Modules', 'VOM in $/MWh-e_foak', 'ANR CAPEX ($/MWe)',\n",
       "       'ANR FOM ($/MWe-year)', 'ANR VOM ($/MWhe)', 'Start Cost ($)',\n",
       "       'Life (y)_y'],\n",
       "      dtype='object')"
      ]
     },
     "execution_count": 107,
     "metadata": {},
     "output_type": "execute_result"
    }
   ],
   "source": [
    "ff = nrel_data.merge(techs, how='cross') # full facilities\n",
    "\n",
    "ff.columns\n",
    "\n"
   ]
  },
  {
   "cell_type": "markdown",
   "metadata": {},
   "source": [
    "## Cashflows Calculations for ANR-H2 to serve total demand"
   ]
  },
  {
   "cell_type": "code",
   "execution_count": 108,
   "metadata": {},
   "outputs": [],
   "source": [
    "import math\n",
    "ff['H2 Modules'] = ff.apply(lambda x: math.ceil(x['Total H2 Dem. (kg/h)']/x['H2Cap (kgh2/h)']), axis=1)\n",
    "ff['Depl. H2 Cap. (kgh2/h)'] = ff['H2 Modules']*ff['H2Cap (kgh2/h)']\n",
    "ff['Depl. H2 Cap. (MWe)'] = ff['H2 Modules']*ff['H2Cap (MWe)']\n",
    "ff['ANR Modules'] = ff.apply(lambda x: math.ceil(x['Depl. H2 Cap. (MWe)']/x['Power in MWe']), axis=1)\n",
    "ff['Depl. ANR Cap. (MWe)'] = ff['ANR Modules']*ff['Power in MWe']\n",
    "ff['Depl. ANR Cap. (MWt)'] = ff['ANR Modules']*ff['Power in MWt']\n",
    "ff['Surplus SMR Cap. (MWe)'] = ff['Depl. ANR Cap. (MWe)']-ff['Depl. H2 Cap. (MWe)']\n",
    "ff['Surplus ANR Cap. (MWt)'] = ff['Surplus SMR Cap. (MWe)']/ff['Thermal Efficiency']"
   ]
  },
  {
   "cell_type": "code",
   "execution_count": 109,
   "metadata": {},
   "outputs": [],
   "source": [
    "# Compute costs in $/year\n",
    "# Capital recovery factor\n",
    "IR = utils.WACC\n",
    "ff['ANR CRF'] = (IR/(1-((1+IR)**(-1*(ff['Life (y)_y'])))))\n",
    "ff['H2 CRF'] = (IR/(1-((1+IR)**(-1*(ff['Life (y)_x'])))))\n",
    "\n",
    "# ITC\n",
    "itc_anr = utils.ITC_ANR\n",
    "itc_h2 = utils.ITC_H2\n",
    "\n",
    "## CAPEX\n",
    "ff['Tot ANR CAPEX'] = ff['Depl. ANR Cap. (MWe)']*ff['ANR CAPEX ($/MWe)']*(1-itc_anr)\n",
    "ff['Annual ANR CAPEX'] = ff['Tot ANR CAPEX']*ff['ANR CRF']\n",
    "ff['Tot H2 CAPEX'] = ff['Depl. H2 Cap. (MWe)']*ff['H2 CAPEX ($/MWe)']*(1-itc_h2)\n",
    "ff['Annual H2 CAPEX'] = ff['Tot H2 CAPEX']*ff['H2 CRF']\n",
    "ff['Annual ANR-H2 CAPEX'] = ff['Annual ANR CAPEX']+ff['Annual H2 CAPEX']\n",
    "\n",
    "## FOM\n",
    "ff['ANR FOM'] = ff['Depl. ANR Cap. (MWe)']*ff['ANR FOM ($/MWe-year)']\n",
    "ff['H2 FOM'] = ff['Depl. H2 Cap. (MWe)']*ff['H2 FOM ($/MWe-year)']\n",
    "ff['ANR-H2 FOM'] = ff['ANR FOM']+ff['H2 FOM']\n",
    "\n",
    "## VOM\n",
    "ff['ANR VOM'] =ff['Total H2 Dem. (kg/h)']*8760*ff['Eq tot H2ElecCons (MWhe/kgh2)']*ff['ANR VOM ($/MWhe)']\n",
    "ff['H2 VOM'] =ff['Total H2 Dem. (kg/h)']*8760*ff['H2 VOM ($/MWhe)']\n",
    "ff['ANR-H2 VOM'] = ff['ANR VOM']+ff['H2 VOM']\n",
    "\n",
    "## Conversion costs\n",
    "gf_crf = IR/ (1 - (1/(1+IR)**utils.GFLT) ) \n",
    "ff['Conversion'] = utils.GFCAPEX*gf_crf*(1-itc_h2)*ff['Heat Demand (MW)']\n",
    "ff['Conversion total'] = utils.GFCAPEX*(1-itc_h2)*ff['Heat Demand (MW)']\n",
    "\n",
    "# Total initial investment\n",
    "ff['Initial investment ($)'] = ff['Conversion total']+ff['Tot ANR CAPEX']+ff['Tot H2 CAPEX']\n",
    "\n",
    "\n",
    "# Total cost\n",
    "ff['ANR-H2 Total Cost ($/year)'] = ff['Annual ANR-H2 CAPEX'] + ff['ANR-H2 FOM'] + ff['ANR-H2 VOM'] +ff['Conversion']\n"
   ]
  },
  {
   "cell_type": "code",
   "execution_count": 110,
   "metadata": {},
   "outputs": [],
   "source": [
    "# Compute revenues in $/year\n",
    "# Avoided NG cost computed from input data\n",
    "# H2 PTC\n",
    "ff['H2 PTC'] = utils.h2_ptc*ff['Total H2 Dem. (kg/h)']*8760\n",
    "\n",
    "# Cogeneration of electricity\n",
    "if cogen: \n",
    "  ff = compute_cogen(ff, 'Surplus SMR Cap. (MWe)', 'STATE')\n",
    "  "
   ]
  },
  {
   "cell_type": "code",
   "execution_count": 111,
   "metadata": {},
   "outputs": [],
   "source": [
    "if with_PTC:\n",
    "  ff['ANR-H2 Net Ann. Rev. ($/year)'] = -ff['ANR-H2 Total Cost ($/year)']+ff['H2 PTC']+ff['Avoided NG Cost ($/y)']\n",
    "else: \n",
    "  ff['ANR-H2 Net Ann. Rev. ($/year)'] = -ff['ANR-H2 Total Cost ($/year)']+ff['Avoided NG Cost ($/y)']\n",
    "if cogen: \n",
    "  ff['ANR-H2 Net Ann. Rev. ($/year)'] += ff['Electricity revenues ($/y)']"
   ]
  },
  {
   "cell_type": "code",
   "execution_count": 112,
   "metadata": {},
   "outputs": [],
   "source": [
    "# Compute IRR\n",
    "ff['IRR w PTC'] = ff.apply(lambda x: utils.calculate_irr(x['Initial investment ($)'], x['Electricity revenues ($/y)'], x['H2 PTC'], x['Avoided NG Cost ($/y)']), axis=1)\n",
    "ff['IRR wo PTC'] = ff.apply(lambda x: utils.calculate_irr(x['Initial investment ($)'], x['Electricity revenues ($/y)'], x['H2 PTC'], x['Avoided NG Cost ($/y)'], ptc=False), axis=1)\n"
   ]
  },
  {
   "cell_type": "code",
   "execution_count": 113,
   "metadata": {},
   "outputs": [],
   "source": [
    "ff.to_excel(f'./results/process_heat/anrh2_full_{OAK}_{cogen_tag}_PTC_{with_PTC}.xlsx')"
   ]
  },
  {
   "cell_type": "markdown",
   "metadata": {},
   "source": [
    "## Selection of Best hydrogen technology for full demand served by ANR-H2"
   ]
  },
  {
   "cell_type": "code",
   "execution_count": 114,
   "metadata": {},
   "outputs": [
    {
     "name": "stdout",
     "output_type": "stream",
     "text": [
      "13785 4595\n"
     ]
    }
   ],
   "source": [
    "# Select h2 tech corresponding to the maximum net annual revenue\n",
    "ff.reset_index(inplace=True, drop=True)\n",
    "idx = ff.groupby(['FACILITY_ID', 'ANR'])['ANR-H2 Net Ann. Rev. ($/year)'].idxmax()\n",
    "max_h2 = ff.loc[idx]\n",
    "print(len(ff), len(max_h2))\n",
    "ff = max_h2.reset_index(drop=True)     "
   ]
  },
  {
   "cell_type": "code",
   "execution_count": 115,
   "metadata": {},
   "outputs": [],
   "source": [
    "ff['Pathway'] = 'SMR-H2'\n",
    "ff['Pathway Net Ann. Rev. ($/year)'] = ff['ANR-H2 Net Ann. Rev. ($/year)']\n",
    "ff.to_excel(f'./results/process_heat/anrh2_after_h2_opt_{OAK}_{cogen_tag}_PTC_{with_PTC}.xlsx')"
   ]
  },
  {
   "cell_type": "markdown",
   "metadata": {},
   "source": [
    "## Select best ANR design"
   ]
  },
  {
   "cell_type": "code",
   "execution_count": 116,
   "metadata": {},
   "outputs": [
    {
     "name": "stdout",
     "output_type": "stream",
     "text": [
      "4595 919\n"
     ]
    }
   ],
   "source": [
    "# Select ANR design corresponding to the maximum net annual revenue\n",
    "ff.reset_index(inplace=True, drop=True)\n",
    "idx = ff.groupby(['FACILITY_ID'])['ANR-H2 Net Ann. Rev. ($/year)'].idxmax()\n",
    "max_anr = ff.loc[idx]\n",
    "print(len(ff), len(max_anr))\n",
    "ff = max_anr.reset_index(drop=True)     \n",
    "ff.to_excel(f'./results/process_heat/anrh2_best_{OAK}_{cogen_tag}_PTC_{with_PTC}.xlsx')"
   ]
  },
  {
   "cell_type": "markdown",
   "metadata": {},
   "source": [
    "# Comparison of ANR v.s. ANR-H2 pathways"
   ]
  },
  {
   "cell_type": "code",
   "execution_count": 117,
   "metadata": {},
   "outputs": [],
   "source": [
    "if cogen: fr= fr[['FACILITY_ID', 'STATE', 'CITY', 'latitude', 'longitude','Batch_Temp_degC', 'Highest_Temp_served_degC',\n",
    "       'Emissions_mmtco2/y','Emissions_batch_mmtco2/y', 'Emissions_rem_mmtco2/y', 'Heat_demand_MWh/hr', 'Remaining_Heat_MW',\n",
    "       'Remaining_temp_degC', f'Annual_CAPEX_{OAK}', f'FOPEX_{OAK}', f'VOPEX_{OAK}',\n",
    "       'NG price ($/MMBtu)', f'ANR Net Ann. Rev. {OAK} ($/year)', 'IRR w PTC', 'IRR wo PTC',\n",
    "       'Remaining H2 Dem. (kg/h)', 'Technology', 'ANR', 'H2 Modules', 'ANR Modules', 'ANR CAPEX ($/MWe)',\n",
    "       'Annual ANR CAPEX','Annual H2 CAPEX', 'ANR CRF', \n",
    "       'Annual ANR-H2 CAPEX','ANR-H2 FOM', 'H2 VOM','H2 FOM', 'ANR VOM','ANR FOM', 'ANR-H2 VOM', 'Conversion', 'ANR-H2 Total Cost ($/year)',\n",
    "       'Avoided NG Cost ($/y)', 'H2 PTC','Electricity revenues ($/y)','Depl. ANR Cap. (MWe)', 'Depl. ANR Cap. (MWt)',\n",
    "       'Surplus SMR Cap. (MWe)', 'Surplus ANR Cap. (MWt)', 'Net Ann. Rev. ($/year)', 'Pathway',\n",
    "       'Pathway Net Ann. Rev. ($/year)']]\n",
    "else: fr= fr[['FACILITY_ID', 'STATE','CITY', 'latitude', 'longitude', 'Batch_Temp_degC', 'Highest_Temp_served_degC',\n",
    "       'Emissions_mmtco2/y','Emissions_batch_mmtco2/y', 'Emissions_rem_mmtco2/y', 'Heat_demand_MWh/hr', 'Remaining_Heat_MW',\n",
    "       'Remaining_temp_degC', f'Annual_CAPEX_{OAK}', f'FOPEX_{OAK}', f'VOPEX_{OAK}',\n",
    "       'NG price ($/MMBtu)', f'ANR Net Ann. Rev. {OAK} ($/year)',\n",
    "       'Remaining H2 Dem. (kg/h)', 'Technology', 'ANR', 'H2 Modules', 'ANR Modules', 'ANR CAPEX ($/MWe)',\n",
    "       'Annual ANR CAPEX','Annual H2 CAPEX','ANR CRF', 'IRR w PTC', 'IRR wo PTC',\n",
    "       'Annual ANR-H2 CAPEX','ANR-H2 FOM', 'H2 VOM','H2 FOM', 'ANR VOM','ANR FOM', 'ANR-H2 VOM', 'Conversion', 'ANR-H2 Total Cost ($/year)',\n",
    "       'Avoided NG Cost ($/y)', 'H2 PTC','Depl. ANR Cap. (MWe)', 'Depl. ANR Cap. (MWt)',\n",
    "       'Surplus SMR Cap. (MWe)', 'Surplus ANR Cap. (MWt)', 'Net Ann. Rev. ($/year)', 'Pathway',\n",
    "       'Pathway Net Ann. Rev. ($/year)']]\n",
    "fr['CAPEX ($/y)'] = fr[f'Annual_CAPEX_{OAK}']+fr['Annual ANR-H2 CAPEX']\n",
    "fr['O&M ($/y)'] =fr[f'FOPEX_{OAK}']+fr[f'VOPEX_{OAK}']+fr['ANR-H2 FOM']+fr['ANR-H2 VOM']\n",
    "fr.rename(columns={'Remaining H2 Dem. (kg/h)':'H2 Dem. (kg/h)', 'Heat_demand_MWh/hr':'Heat Demand (MW)', 'Highest_Temp_served_degC':'max_temp_degC', 'ANR':'SMR'}, inplace=True)\n"
   ]
  },
  {
   "cell_type": "code",
   "execution_count": 118,
   "metadata": {},
   "outputs": [
    {
     "data": {
      "text/plain": [
       "Index(['FACILITY_ID', 'STATE', 'CITY', 'latitude', 'longitude',\n",
       "       'Emissions_mmtco2/y', 'max_temp_degC', 'Heat Demand (MW)',\n",
       "       'H2 Dem. (kg/h)', 'Avoided NG Cost ($/y)', 'Technology', 'SMR',\n",
       "       'H2 Modules', 'ANR Modules', 'Depl. ANR Cap. (MWe)',\n",
       "       'Depl. ANR Cap. (MWt)', 'ANR CRF', 'ANR CAPEX ($/MWe)',\n",
       "       'Surplus SMR Cap. (MWe)', 'Surplus ANR Cap. (MWt)',\n",
       "       'NG price ($/MMBtu)', 'Annual ANR CAPEX', 'Annual H2 CAPEX',\n",
       "       'CAPEX ($/y)', 'ANR-H2 FOM', 'ANR-H2 VOM', 'Conversion', 'H2 VOM',\n",
       "       'H2 FOM', 'ANR VOM', 'ANR FOM', 'H2 PTC', 'Electricity revenues ($/y)',\n",
       "       'ANR-H2 Net Ann. Rev. ($/year)', 'Pathway', 'IRR w PTC', 'IRR wo PTC',\n",
       "       'Pathway Net Ann. Rev. ($/year)', 'O&M ($/y)'],\n",
       "      dtype='object')"
      ]
     },
     "execution_count": 118,
     "metadata": {},
     "output_type": "execute_result"
    }
   ],
   "source": [
    "if cogen: ff = ff[['FACILITY_ID', 'STATE', 'CITY', 'latitude', 'longitude','MMTCO2E', 'max_temp_degC','Heat Demand (MW)','Total H2 Dem. (kg/h)', 'Avoided NG Cost ($/y)', \n",
    "         'Technology', 'ANR','H2 Modules', 'ANR Modules', 'Depl. ANR Cap. (MWe)', 'Depl. ANR Cap. (MWt)', 'ANR CRF', 'ANR CAPEX ($/MWe)',\n",
    "       'Surplus SMR Cap. (MWe)', 'Surplus ANR Cap. (MWt)', 'NG price ($/MMBtu)', 'Annual ANR CAPEX', 'Annual H2 CAPEX',\n",
    "       'Annual ANR-H2 CAPEX', 'ANR-H2 FOM', 'ANR-H2 VOM', 'Conversion','H2 VOM','H2 FOM', 'ANR VOM','ANR FOM', \n",
    "       'H2 PTC', 'Electricity revenues ($/y)','ANR-H2 Net Ann. Rev. ($/year)', 'Pathway', 'IRR w PTC', 'IRR wo PTC',\n",
    "       'Pathway Net Ann. Rev. ($/year)']]\n",
    "else: ff[['FACILITY_ID', 'STATE','CITY', 'latitude', 'longitude', 'MMTCO2E', 'max_temp_degC','Heat Demand (MW)','Total H2 Dem. (kg/h)', 'Avoided NG Cost ($/y)', \n",
    "         'Technology', 'ANR','H2 Modules', 'ANR Modules', 'Depl. ANR Cap. (MWe)', 'Depl. ANR Cap. (MWt)','ANR CRF', 'ANR CAPEX ($/MWe)',\n",
    "       'Surplus ANR Cap. (MWe)', 'Surplus ANR Cap. (MWt)', 'NG price ($/MMBtu)', 'Annual ANR CAPEX', 'Annual H2 CAPEX',\n",
    "       'Annual ANR-H2 CAPEX', 'ANR-H2 FOM', 'ANR-H2 VOM', 'Conversion','H2 VOM','H2 FOM', 'ANR VOM','ANR FOM', \n",
    "       'H2 PTC', 'ANR-H2 Net Ann. Rev. ($/year)', 'Pathway','IRR w PTC', 'IRR wo PTC',\n",
    "       'Pathway Net Ann. Rev. ($/year)']]\n",
    "ff['O&M ($/y)'] = ff['ANR-H2 FOM']+ff['ANR-H2 VOM']\n",
    "ff.rename(columns={'Annual ANR-H2 CAPEX':'CAPEX ($/y)', 'MMTCO2E':'Emissions_mmtco2/y', 'Total H2 Dem. (kg/h)':'H2 Dem. (kg/h)', \n",
    "                   'ANR':'SMR'}, inplace=True)\n",
    "ff.columns"
   ]
  },
  {
   "cell_type": "code",
   "execution_count": 119,
   "metadata": {},
   "outputs": [
    {
     "data": {
      "text/plain": [
       "Index(['FACILITY_ID', 'STATE', 'CITY', 'latitude', 'longitude',\n",
       "       'Batch_Temp_degC', 'max_temp_degC', 'Emissions_mmtco2/y',\n",
       "       'Emissions_batch_mmtco2/y', 'Emissions_rem_mmtco2/y',\n",
       "       'Heat Demand (MW)', 'Remaining_Heat_MW', 'Remaining_temp_degC',\n",
       "       'Annual_CAPEX_NOAK', 'FOPEX_NOAK', 'VOPEX_NOAK', 'NG price ($/MMBtu)',\n",
       "       'ANR Net Ann. Rev. NOAK ($/year)', 'IRR w PTC', 'IRR wo PTC',\n",
       "       'H2 Dem. (kg/h)', 'Technology', 'SMR', 'H2 Modules', 'ANR Modules',\n",
       "       'ANR CAPEX ($/MWe)', 'Annual ANR CAPEX', 'Annual H2 CAPEX', 'ANR CRF',\n",
       "       'Annual ANR-H2 CAPEX', 'ANR-H2 FOM', 'H2 VOM', 'H2 FOM', 'ANR VOM',\n",
       "       'ANR FOM', 'ANR-H2 VOM', 'Conversion', 'ANR-H2 Total Cost ($/year)',\n",
       "       'Avoided NG Cost ($/y)', 'H2 PTC', 'Electricity revenues ($/y)',\n",
       "       'Depl. ANR Cap. (MWe)', 'Depl. ANR Cap. (MWt)',\n",
       "       'Surplus SMR Cap. (MWe)', 'Surplus ANR Cap. (MWt)',\n",
       "       'Net Ann. Rev. ($/year)', 'Pathway', 'Pathway Net Ann. Rev. ($/year)',\n",
       "       'CAPEX ($/y)', 'O&M ($/y)', 'ANR-H2 Net Ann. Rev. ($/year)'],\n",
       "      dtype='object')"
      ]
     },
     "execution_count": 119,
     "metadata": {},
     "output_type": "execute_result"
    }
   ],
   "source": [
    "comparison = pd.concat([fr,ff], ignore_index=True)\n",
    "comparison.columns"
   ]
  },
  {
   "cell_type": "code",
   "execution_count": 120,
   "metadata": {},
   "outputs": [
    {
     "name": "stdout",
     "output_type": "stream",
     "text": [
      "1832 919\n"
     ]
    }
   ],
   "source": [
    "comparison.reset_index(inplace=True, drop=True)\n",
    "idx = comparison.groupby(['FACILITY_ID'])['Pathway Net Ann. Rev. ($/year)'].idxmax()\n",
    "best_pathway = comparison.loc[idx]\n",
    "print(len(comparison), len(best_pathway))\n",
    "best_pathway['Pathway Net Ann. Rev. (M$/y)'] = best_pathway['Pathway Net Ann. Rev. ($/year)']/1e6\n",
    "best_pathway['Pathway Net Ann. Rev. (M$/y/MWt)'] = best_pathway['Pathway Net Ann. Rev. (M$/y)']/best_pathway['Depl. ANR Cap. (MWt)']\n",
    "best_pathway['Pathway Net Ann. Rev. (M$/y/MWe)'] = best_pathway['Pathway Net Ann. Rev. (M$/y)']/best_pathway['Depl. ANR Cap. (MWe)']"
   ]
  },
  {
   "cell_type": "markdown",
   "metadata": {},
   "source": [
    "# GRAPHS"
   ]
  },
  {
   "cell_type": "markdown",
   "metadata": {},
   "source": [
    "### Influence of heat demand on profitability"
   ]
  },
  {
   "cell_type": "code",
   "execution_count": 121,
   "metadata": {},
   "outputs": [
    {
     "name": "stderr",
     "output_type": "stream",
     "text": [
      "C:\\Users\\mgarrou\\AppData\\Local\\Temp\\ipykernel_17140\\629030803.py:34: UserWarning: This figure includes Axes that are not compatible with tight_layout, so results might be incorrect.\n",
      "  fig.tight_layout()\n"
     ]
    },
    {
     "data": {
      "image/png": "[encoded data removed]",
      "text/plain": [
       "<Figure size 1000x400 with 4 Axes>"
      ]
     },
     "metadata": {},
     "output_type": "display_data"
    }
   ],
   "source": [
    "fig, ax = plt.subplots(1,2, sharey=True, figsize=(10,4))\n",
    "best_pathway['Pathway Net Ann. Rev. (M$/y)'] = best_pathway['Pathway Net Ann. Rev. ($/year)']/1e6\n",
    "sns.scatterplot(ax=ax[0], data=best_pathway[best_pathway.Pathway == 'SMR-H2'], x= 'Heat Demand (MW)', \\\n",
    "                y = 'Pathway Net Ann. Rev. (M$/y/MWt)', hue='SMR', palette=utils.palette)\n",
    "sns.scatterplot(ax=ax[1], data=best_pathway[best_pathway.Pathway == 'SMR+SMR-H2'], x= 'Heat Demand (MW)', \\\n",
    "                y = 'Pathway Net Ann. Rev. (M$/y/MWt)', hue='SMR', palette=utils.palette)\n",
    "ax[0].axhline(0, color='grey', linestyle='--', linewidth=0.6)\n",
    "ax[0].set_title('SMR-H2')\n",
    "ax[0].get_legend().set_visible(False)\n",
    "ax[1].axhline(0, color='grey', linestyle='--', linewidth=0.6)\n",
    "ax[1].set_title('SMR & SMR-H2')\n",
    "ax[1].legend(bbox_to_anchor=(1.1, 1.05))\n",
    "# Zoom of ANR and ANR-H2\n",
    "# this is an inset axes over the main axes\n",
    "sub_ax = plt.axes([.7, .25, .22, .3]) \n",
    "sns.scatterplot(ax=sub_ax, data=best_pathway[best_pathway.Pathway == 'SMR+SMR-H2'], x= 'Heat Demand (MW)', y = 'Pathway Net Ann. Rev. (M$/y/MWt)', hue='SMR', palette=utils.palette)\n",
    "sub_ax.axhline(0, color='grey', linestyle='--', linewidth=0.4)\n",
    "sub_ax.set_xlim(50,400)\n",
    "#sub_ax.set_ylim(-.01, 0.2)\n",
    "sub_ax.get_legend().set_visible(False)\n",
    "sub_ax.set_xlabel('')\n",
    "sub_ax.set_ylabel('')\n",
    "# Zoom of ANR-H2\n",
    "# this is an inset axes over the main axes\n",
    "sub_ax = plt.axes([.3, .25, .22, .3]) \n",
    "sns.scatterplot(ax=sub_ax, data=best_pathway[best_pathway.Pathway == 'SMR-H2'], x= 'Heat Demand (MW)', y = 'Pathway Net Ann. Rev. (M$/y/MWt)', hue='SMR', palette=utils.palette)\n",
    "sub_ax.axhline(0, color='grey', linestyle='--', linewidth=0.4)\n",
    "sub_ax.set_xlim(8,200)\n",
    "#sub_ax.set_ylim(-.01, 0.2)\n",
    "sub_ax.get_legend().set_visible(False)\n",
    "sub_ax.set_xlabel('')\n",
    "sub_ax.set_ylabel('')\n",
    "sns.despine()\n",
    "fig.tight_layout()\n",
    "fig.savefig(f'./results/process_heat/best_net_ann_rev_vs_heat_demand_{OAK}_{cogen_tag}_PTC_{with_PTC}.png')"
   ]
  },
  {
   "cell_type": "markdown",
   "metadata": {},
   "source": [
    "Very small demand are the least profitable to serve, and we observe that for ANR-H2 pathway the most profitable plants require a demand between 50 and 100 MWt while for the ANR & ANR-H2 pathway a profitability maximum is observed between 200 and 300 MWt. "
   ]
  },
  {
   "cell_type": "markdown",
   "metadata": {},
   "source": [
    "No clear influence of remaining heat on profitability"
   ]
  },
  {
   "cell_type": "markdown",
   "metadata": {},
   "source": [
    "### Influence of surplus capacity on profitability"
   ]
  },
  {
   "cell_type": "code",
   "execution_count": 122,
   "metadata": {},
   "outputs": [
    {
     "data": {
      "text/plain": [
       "<matplotlib.lines.Line2D at 0x290b7532f10>"
      ]
     },
     "execution_count": 122,
     "metadata": {},
     "output_type": "execute_result"
    },
    {
     "data": {
      "image/png": "[encoded data removed]",
      "text/plain": [
       "<Figure size 500x500 with 1 Axes>"
      ]
     },
     "metadata": {},
     "output_type": "display_data"
    }
   ],
   "source": [
    "fig, ax = plt.subplots(figsize=(5,5))\n",
    "sns.scatterplot(ax=ax, data=best_pathway, x= 'Surplus SMR Cap. (MWe)', y = 'Pathway Net Ann. Rev. (M$/y/MWt)', hue='SMR', style='Pathway', palette=utils.palette)\n",
    "ax.axhline(0, color='grey', linestyle='--', linewidth=0.6)"
   ]
  },
  {
   "cell_type": "markdown",
   "metadata": {},
   "source": [
    "### Net Annual Revenues per Industry"
   ]
  },
  {
   "cell_type": "code",
   "execution_count": 123,
   "metadata": {},
   "outputs": [],
   "source": [
    "map_id_industry =pd.read_excel('./input_data/direct_heat_maxv/maxv_heat_data_old.xlsx')[['FACILITY_ID', 'Industry']]\n",
    "map_id_industry.drop_duplicates(inplace=True, ignore_index=True)\n",
    "best_pathway_mapped = best_pathway.merge(map_id_industry, on='FACILITY_ID', how='left')\n",
    "best_pathway_mapped['Industry'] = best_pathway_mapped['Industry'].fillna('Other')\n",
    "best_pathway_mapped.replace({'Other_Not Found':'Other'}, inplace=True)"
   ]
  },
  {
   "cell_type": "code",
   "execution_count": 124,
   "metadata": {},
   "outputs": [
    {
     "data": {
      "image/png": "[encoded data removed]",
      "text/plain": [
       "<Figure size 700x500 with 1 Axes>"
      ]
     },
     "metadata": {},
     "output_type": "display_data"
    }
   ],
   "source": [
    "save_path = f'./results/process_heat/best_net_ann_rev_vs_industry_{OAK}_{cogen_tag}_PTC_{with_PTC}.png'\n",
    "fig, ax = plt.subplots(figsize=(7,5))\n",
    "sns.boxplot(ax=ax, data=best_pathway_mapped, y='Industry', x='Pathway Net Ann. Rev. (M$/y/MWt)',fill=False, width=.5)\n",
    "ax.set_ylabel('')\n",
    "ax.set_xlabel('Net Annual Revenue (M$/MWt/y)')\n",
    "sns.despine()\n",
    "ax.axvline(0, color='grey', linestyle='--', linewidth=0.6)\n",
    "#ax.legend(bbox_to_anchor=(-0.1, .01))\n",
    "\n",
    "fig.tight_layout()\n",
    "fig.savefig(save_path)"
   ]
  },
  {
   "cell_type": "markdown",
   "metadata": {},
   "source": [
    "### Cost comparison against NG with CCUS"
   ]
  },
  {
   "cell_type": "markdown",
   "metadata": {},
   "source": [
    "Cost of NG+CCUS = Avoided NG Cost + Emissions x CCUS Cost\n",
    "\n",
    "Cost of ANR = CAPEX + O&M + Conversion - H2 PTC "
   ]
  },
  {
   "cell_type": "code",
   "execution_count": 125,
   "metadata": {},
   "outputs": [],
   "source": [
    "comp_ccus = best_pathway_mapped.copy()\n",
    "comp_ccus['Cost NG + CCUS (M$/MWt/y)'] = (comp_ccus['Avoided NG Cost ($/y)']+comp_ccus['Emissions_mmtco2/y']*utils.ccus_cost*1e6)/(comp_ccus['Depl. ANR Cap. (MWt)']*1e6)\n",
    "if cogen: comp_ccus['Cost SMR deployment (M$/MWt/y)'] = (comp_ccus['CAPEX ($/y)']+comp_ccus['O&M ($/y)']+comp_ccus['Conversion']-\\\n",
    "                                                comp_ccus['H2 PTC']-comp_ccus['Electricity revenues ($/y)'])/(comp_ccus['Depl. ANR Cap. (MWt)']*1e6)\n",
    "else: comp_ccus['Cost SMR deployment (M$/MWt/y)'] = (comp_ccus['CAPEX ($/y)']+comp_ccus['O&M ($/y)']+comp_ccus['Conversion']-\\\n",
    "                                                comp_ccus['H2 PTC'])/(comp_ccus['Depl. ANR Cap. (MWt)']*1e6)\n",
    "comp_ccus['Cost NG + CCUS 25 (M$/MWt/y)'] = (comp_ccus['Avoided NG Cost ($/y)']+comp_ccus['Emissions_mmtco2/y']*25*1e6)/(comp_ccus['Depl. ANR Cap. (MWt)']*1e6)\n",
    "comp_ccus['Cost NG + CCUS 100 (M$/MWt/y)'] = (comp_ccus['Avoided NG Cost ($/y)']+comp_ccus['Emissions_mmtco2/y']*100*1e6)/(comp_ccus['Depl. ANR Cap. (MWt)']*1e6)"
   ]
  },
  {
   "cell_type": "code",
   "execution_count": 126,
   "metadata": {},
   "outputs": [
    {
     "name": "stdout",
     "output_type": "stream",
     "text": [
      "At 50 $/ton, viable deployed ANR capacity 493.8 GWt\n",
      "At 25 $/ton, viable deployed ANR capacity 490.8 GWt\n",
      "At 100 $/ton, viable deployed ANR capacity 496.8 GWt\n"
     ]
    }
   ],
   "source": [
    "# Compute viable deployed capacity \n",
    "ccus_50 = comp_ccus[comp_ccus['Cost NG + CCUS (M$/MWt/y)']>=comp_ccus['Cost SMR deployment (M$/MWt/y)']]\n",
    "ccus_25 = comp_ccus[comp_ccus['Cost NG + CCUS 25 (M$/MWt/y)']>=comp_ccus['Cost SMR deployment (M$/MWt/y)']]\n",
    "ccus_100 = comp_ccus[comp_ccus['Cost NG + CCUS 100 (M$/MWt/y)']>=comp_ccus['Cost SMR deployment (M$/MWt/y)']]\n",
    "print('At {} $/ton, viable deployed ANR capacity {} GWt'.format(50, ccus_50['Depl. ANR Cap. (MWt)'].sum()/1e3))\n",
    "print('At {} $/ton, viable deployed ANR capacity {} GWt'.format(25, ccus_25['Depl. ANR Cap. (MWt)'].sum()/1e3))\n",
    "print('At {} $/ton, viable deployed ANR capacity {} GWt'.format(100, ccus_100['Depl. ANR Cap. (MWt)'].sum()/1e3))"
   ]
  },
  {
   "cell_type": "code",
   "execution_count": 127,
   "metadata": {},
   "outputs": [],
   "source": [
    "comp_ccus = comp_ccus.rename(columns={'Emissions_mmtco2/y': 'Emissions (MMtCO2/y)'})"
   ]
  },
  {
   "cell_type": "code",
   "execution_count": 128,
   "metadata": {},
   "outputs": [
    {
     "data": {
      "image/png": "[encoded data removed]",
      "text/plain": [
       "<Figure size 700x400 with 1 Axes>"
      ]
     },
     "metadata": {},
     "output_type": "display_data"
    }
   ],
   "source": [
    "save_path = f'./results/process_heat/best_comparison_costs_vs_ccus_anr_{OAK}_{cogen_tag}_PTC_{with_PTC}.png'\n",
    "\n",
    "fig, ax = plt.subplots(figsize=(7,4))\n",
    "med_x = np.arange(0,0.4, 0.01)\n",
    "\n",
    "sns.scatterplot(ax=ax, data=comp_ccus, y='Cost SMR deployment (M$/MWt/y)', x='Cost NG + CCUS (M$/MWt/y)', hue='SMR',\\\n",
    "                 size='Emissions (MMtCO2/y)', sizes=(20,500), size_norm=(0,2.3), style='Pathway',palette=utils.palette, alpha=.7)\n",
    "ax.plot(med_x, med_x, color='grey', linestyle='--', linewidth=0.8)\n",
    "ax.spines[['right', 'top']].set_visible(False)\n",
    "ax.legend(bbox_to_anchor=(1, 1.05), )\n",
    "\n",
    "fig.tight_layout()\n",
    "fig.savefig(save_path)"
   ]
  },
  {
   "cell_type": "markdown",
   "metadata": {},
   "source": [
    "### Emissions abatement costs"
   ]
  },
  {
   "cell_type": "code",
   "execution_count": 129,
   "metadata": {},
   "outputs": [
    {
     "data": {
      "text/plain": [
       "Index(['FACILITY_ID', 'STATE', 'CITY', 'latitude', 'longitude',\n",
       "       'Batch_Temp_degC', 'max_temp_degC', 'Emissions_mmtco2/y',\n",
       "       'Emissions_batch_mmtco2/y', 'Emissions_rem_mmtco2/y',\n",
       "       'Heat Demand (MW)', 'Remaining_Heat_MW', 'Remaining_temp_degC',\n",
       "       'Annual_CAPEX_NOAK', 'FOPEX_NOAK', 'VOPEX_NOAK', 'NG price ($/MMBtu)',\n",
       "       'ANR Net Ann. Rev. NOAK ($/year)', 'IRR w PTC', 'IRR wo PTC',\n",
       "       'H2 Dem. (kg/h)', 'Technology', 'SMR', 'H2 Modules', 'ANR Modules',\n",
       "       'ANR CAPEX ($/MWe)', 'Annual ANR CAPEX', 'Annual H2 CAPEX', 'ANR CRF',\n",
       "       'Annual ANR-H2 CAPEX', 'ANR-H2 FOM', 'H2 VOM', 'H2 FOM', 'ANR VOM',\n",
       "       'ANR FOM', 'ANR-H2 VOM', 'Conversion', 'ANR-H2 Total Cost ($/year)',\n",
       "       'Avoided NG Cost ($/y)', 'H2 PTC', 'Electricity revenues ($/y)',\n",
       "       'Depl. ANR Cap. (MWe)', 'Depl. ANR Cap. (MWt)',\n",
       "       'Surplus SMR Cap. (MWe)', 'Surplus ANR Cap. (MWt)',\n",
       "       'Net Ann. Rev. ($/year)', 'Pathway', 'Pathway Net Ann. Rev. ($/year)',\n",
       "       'CAPEX ($/y)', 'O&M ($/y)', 'ANR-H2 Net Ann. Rev. ($/year)',\n",
       "       'Pathway Net Ann. Rev. (M$/y)', 'Pathway Net Ann. Rev. (M$/y/MWt)',\n",
       "       'Pathway Net Ann. Rev. (M$/y/MWe)'],\n",
       "      dtype='object')"
      ]
     },
     "execution_count": 129,
     "metadata": {},
     "output_type": "execute_result"
    }
   ],
   "source": [
    "best_pathway.columns"
   ]
  },
  {
   "cell_type": "code",
   "execution_count": 130,
   "metadata": {},
   "outputs": [
    {
     "name": "stdout",
     "output_type": "stream",
     "text": [
      "137.95843184379518 8592268.059912605\n",
      "3715243.7465699404 1848426232.0569026\n",
      "4.053e-06 3.399976439\n"
     ]
    }
   ],
   "source": [
    "em = best_pathway.copy()\n",
    "em['Cost ANR ($/y)'] = (em['CAPEX ($/y)']+em['O&M ($/y)']+em['Conversion']-em['Avoided NG Cost ($/y)'])\n",
    "em['Abatement cost ($/tCO2)'] = em['Cost ANR ($/y)']/(em['Emissions_mmtco2/y']*1e6)\n",
    "em['Abatement potential (tCO2/y-MWe)'] = 1e6*em['Emissions_mmtco2/y']/em['Depl. ANR Cap. (MWe)']\n",
    "min_cost = min(em['Abatement cost ($/tCO2)'])\n",
    "max_cost = max(em['Abatement cost ($/tCO2)'])\n",
    "min_cost_anr = min(em['Cost ANR ($/y)'])\n",
    "max_cost_anr = max(em['Cost ANR ($/y)'])\n",
    "print(min_cost, max_cost)\n",
    "print(min_cost_anr, max_cost_anr)\n",
    "print(min(em['Emissions_mmtco2/y']), max(em['Emissions_mmtco2/y']))"
   ]
  },
  {
   "cell_type": "code",
   "execution_count": 131,
   "metadata": {},
   "outputs": [
    {
     "data": {
      "image/png": "[encoded data removed]",
      "text/plain": [
       "<Figure size 700x300 with 1 Axes>"
      ]
     },
     "metadata": {},
     "output_type": "display_data"
    }
   ],
   "source": [
    "fig, ax = plt.subplots(figsize=(7,3))\n",
    "\n",
    "sns.boxplot(ax=ax, data=em, y='Pathway', x='Abatement potential (tCO2/y-MWe)', palette=utils.palette, hue='SMR',width=0.3)\n",
    "ax.set_ylabel('')\n",
    "ax.xaxis.set_ticks(np.arange(0, 6000, 500))\n",
    "sns.despine()\n",
    "ax.xaxis.grid(True)\n",
    "fig.savefig(f'./results/process_heat/best_abatement_potential_vs_pathway_anr_{OAK}_{cogen_tag}_PTC_{with_PTC}.png')"
   ]
  },
  {
   "cell_type": "code",
   "execution_count": 132,
   "metadata": {},
   "outputs": [
    {
     "data": {
      "image/png": "[encoded data removed]",
      "text/plain": [
       "<Figure size 1200x300 with 2 Axes>"
      ]
     },
     "metadata": {},
     "output_type": "display_data"
    }
   ],
   "source": [
    "fig, ax = plt.subplots(1,2,figsize=(12,3))\n",
    "sns.boxplot(ax=ax[0], data=em[em.Pathway=='SMR+SMR-H2'], y='SMR', x='Abatement cost ($/tCO2)', hue='Technology',width=0.5)\n",
    "sns.boxplot(ax=ax[1], data=em[em.Pathway=='SMR-H2'], y='SMR', x='Abatement cost ($/tCO2)', hue='Technology',width=0.5)\n",
    "ax[1].set_xlim(0,10000)\n",
    "ax[1].set_title('SMR-H2')\n",
    "ax[0].set_xlim(-50,600)\n",
    "ax[0].set_title('SMR+SMR-H2')\n",
    "ax[0].set_ylabel('')\n",
    "ax[1].set_ylabel('')\n",
    "ax[1].get_legend().set_visible(False)\n",
    "fig.savefig(f'./results/process_heat/best_abatement_cost_vs_anr_h2tech_{OAK}_{cogen_tag}_PTC_{with_PTC}.png')"
   ]
  },
  {
   "cell_type": "code",
   "execution_count": 133,
   "metadata": {},
   "outputs": [
    {
     "data": {
      "text/plain": [
       "Index(['FACILITY_ID', 'STATE', 'CITY', 'latitude', 'longitude',\n",
       "       'Batch_Temp_degC', 'max_temp_degC', 'Emissions_mmtco2/y',\n",
       "       'Emissions_batch_mmtco2/y', 'Emissions_rem_mmtco2/y',\n",
       "       'Heat Demand (MW)', 'Remaining_Heat_MW', 'Remaining_temp_degC',\n",
       "       'Annual_CAPEX_NOAK', 'FOPEX_NOAK', 'VOPEX_NOAK', 'NG price ($/MMBtu)',\n",
       "       'ANR Net Ann. Rev. NOAK ($/year)', 'IRR w PTC', 'IRR wo PTC',\n",
       "       'H2 Dem. (kg/h)', 'Technology', 'SMR', 'H2 Modules', 'ANR Modules',\n",
       "       'ANR CAPEX ($/MWe)', 'Annual ANR CAPEX', 'Annual H2 CAPEX', 'ANR CRF',\n",
       "       'Annual ANR-H2 CAPEX', 'ANR-H2 FOM', 'H2 VOM', 'H2 FOM', 'ANR VOM',\n",
       "       'ANR FOM', 'ANR-H2 VOM', 'Conversion', 'ANR-H2 Total Cost ($/year)',\n",
       "       'Avoided NG Cost ($/y)', 'H2 PTC', 'Electricity revenues ($/y)',\n",
       "       'Depl. ANR Cap. (MWe)', 'Depl. ANR Cap. (MWt)',\n",
       "       'Surplus SMR Cap. (MWe)', 'Surplus ANR Cap. (MWt)',\n",
       "       'Net Ann. Rev. ($/year)', 'Pathway', 'Pathway Net Ann. Rev. ($/year)',\n",
       "       'CAPEX ($/y)', 'O&M ($/y)', 'ANR-H2 Net Ann. Rev. ($/year)',\n",
       "       'Pathway Net Ann. Rev. (M$/y)', 'Pathway Net Ann. Rev. (M$/y/MWt)',\n",
       "       'Pathway Net Ann. Rev. (M$/y/MWe)', 'ANR-only Cost ($/y)',\n",
       "       'ANR-H2-only Cost ($/y)'],\n",
       "      dtype='object')"
      ]
     },
     "execution_count": 133,
     "metadata": {},
     "output_type": "execute_result"
    }
   ],
   "source": [
    "anr_anrh2 = best_pathway[best_pathway.Pathway == 'SMR+SMR-H2']\n",
    "anr_anrh2['ANR-only Cost ($/y)'] = anr_anrh2['Annual ANR CAPEX']+anr_anrh2[f'VOPEX_{OAK}']+anr_anrh2[f'FOPEX_{OAK}']\n",
    "anr_anrh2['ANR-H2-only Cost ($/y)'] = anr_anrh2['Annual ANR-H2 CAPEX']+anr_anrh2['ANR-H2 FOM']+anr_anrh2['ANR-H2 VOM']\n",
    "anr_anrh2.columns"
   ]
  },
  {
   "cell_type": "code",
   "execution_count": 134,
   "metadata": {},
   "outputs": [],
   "source": [
    "anr_anrh2['Abatement cost ANR ($/tCO2)'] = (anr_anrh2['ANR-only Cost ($/y)']-anr_anrh2['Avoided NG Cost ($/y)'])/(anr_anrh2['Emissions_batch_mmtco2/y']*1e6)\n",
    "anr_anrh2['Abatement cost ANR-H2 ($/tCO2)'] = (anr_anrh2['ANR-H2-only Cost ($/y)']-anr_anrh2['Avoided NG Cost ($/y)'])/(anr_anrh2['Emissions_rem_mmtco2/y']*1e6)"
   ]
  },
  {
   "cell_type": "code",
   "execution_count": 135,
   "metadata": {},
   "outputs": [
    {
     "ename": "UnboundLocalError",
     "evalue": "cannot access local variable 'boxprops' where it is not associated with a value",
     "output_type": "error",
     "traceback": [
      "\u001b[1;31m---------------------------------------------------------------------------\u001b[0m",
      "\u001b[1;31mUnboundLocalError\u001b[0m                         Traceback (most recent call last)",
      "Cell \u001b[1;32mIn[135], line 4\u001b[0m\n\u001b[0;32m      1\u001b[0m fig, ax \u001b[38;5;241m=\u001b[39m plt\u001b[38;5;241m.\u001b[39msubplots(\u001b[38;5;241m1\u001b[39m,\u001b[38;5;241m2\u001b[39m,figsize\u001b[38;5;241m=\u001b[39m(\u001b[38;5;241m12\u001b[39m,\u001b[38;5;241m3\u001b[39m), sharey\u001b[38;5;241m=\u001b[39m\u001b[38;5;28;01mTrue\u001b[39;00m)\n\u001b[0;32m      3\u001b[0m sns\u001b[38;5;241m.\u001b[39mboxplot(ax\u001b[38;5;241m=\u001b[39max[\u001b[38;5;241m0\u001b[39m], data\u001b[38;5;241m=\u001b[39manr_anrh2, y\u001b[38;5;241m=\u001b[39m\u001b[38;5;124m'\u001b[39m\u001b[38;5;124mSMR\u001b[39m\u001b[38;5;124m'\u001b[39m, x\u001b[38;5;241m=\u001b[39m\u001b[38;5;124m'\u001b[39m\u001b[38;5;124mAbatement cost ANR ($/tCO2)\u001b[39m\u001b[38;5;124m'\u001b[39m, hue\u001b[38;5;241m=\u001b[39m\u001b[38;5;124m'\u001b[39m\u001b[38;5;124mSMR\u001b[39m\u001b[38;5;124m'\u001b[39m,width\u001b[38;5;241m=\u001b[39m\u001b[38;5;241m0.5\u001b[39m, palette\u001b[38;5;241m=\u001b[39mutils\u001b[38;5;241m.\u001b[39mpalette)\n\u001b[1;32m----> 4\u001b[0m \u001b[43msns\u001b[49m\u001b[38;5;241;43m.\u001b[39;49m\u001b[43mboxplot\u001b[49m\u001b[43m(\u001b[49m\u001b[43max\u001b[49m\u001b[38;5;241;43m=\u001b[39;49m\u001b[43max\u001b[49m\u001b[43m[\u001b[49m\u001b[38;5;241;43m1\u001b[39;49m\u001b[43m]\u001b[49m\u001b[43m,\u001b[49m\u001b[43m \u001b[49m\u001b[43mdata\u001b[49m\u001b[38;5;241;43m=\u001b[39;49m\u001b[43manr_anrh2\u001b[49m\u001b[43m,\u001b[49m\u001b[43m \u001b[49m\u001b[43my\u001b[49m\u001b[38;5;241;43m=\u001b[39;49m\u001b[38;5;124;43m'\u001b[39;49m\u001b[38;5;124;43mSMR\u001b[39;49m\u001b[38;5;124;43m'\u001b[39;49m\u001b[43m,\u001b[49m\u001b[43m \u001b[49m\u001b[43mx\u001b[49m\u001b[38;5;241;43m=\u001b[39;49m\u001b[38;5;124;43m'\u001b[39;49m\u001b[38;5;124;43mAbatement cost ANR-H2 ($/tCO2)\u001b[39;49m\u001b[38;5;124;43m'\u001b[39;49m\u001b[43m,\u001b[49m\u001b[43m \u001b[49m\u001b[43mhue\u001b[49m\u001b[38;5;241;43m=\u001b[39;49m\u001b[38;5;124;43m'\u001b[39;49m\u001b[38;5;124;43mSMR\u001b[39;49m\u001b[38;5;124;43m'\u001b[39;49m\u001b[43m,\u001b[49m\u001b[43mwidth\u001b[49m\u001b[38;5;241;43m=\u001b[39;49m\u001b[38;5;241;43m0.5\u001b[39;49m\u001b[43m,\u001b[49m\u001b[43m \u001b[49m\u001b[43mpalette\u001b[49m\u001b[38;5;241;43m=\u001b[39;49m\u001b[43mutils\u001b[49m\u001b[38;5;241;43m.\u001b[39;49m\u001b[43mpalette\u001b[49m\u001b[43m)\u001b[49m\n\u001b[0;32m      5\u001b[0m ax[\u001b[38;5;241m1\u001b[39m]\u001b[38;5;241m.\u001b[39mset_xlim(\u001b[38;5;241m1000\u001b[39m,\u001b[38;5;241m7000\u001b[39m)\n\u001b[0;32m      6\u001b[0m ax[\u001b[38;5;241m1\u001b[39m]\u001b[38;5;241m.\u001b[39mset_title(\u001b[38;5;124m'\u001b[39m\u001b[38;5;124mSMR-H2 in SMR+SMR-H2\u001b[39m\u001b[38;5;124m'\u001b[39m)\n",
      "File \u001b[1;32mc:\\Users\\mgarrou\\AppData\\Local\\miniconda3\\Lib\\site-packages\\seaborn\\categorical.py:1634\u001b[0m, in \u001b[0;36mboxplot\u001b[1;34m(data, x, y, hue, order, hue_order, orient, color, palette, saturation, fill, dodge, width, gap, whis, linecolor, linewidth, fliersize, hue_norm, native_scale, log_scale, formatter, legend, ax, **kwargs)\u001b[0m\n\u001b[0;32m   1627\u001b[0m color \u001b[38;5;241m=\u001b[39m _default_color(\n\u001b[0;32m   1628\u001b[0m     ax\u001b[38;5;241m.\u001b[39mfill_between, hue, color,\n\u001b[0;32m   1629\u001b[0m     {k: v \u001b[38;5;28;01mfor\u001b[39;00m k, v \u001b[38;5;129;01min\u001b[39;00m kwargs\u001b[38;5;241m.\u001b[39mitems() \u001b[38;5;28;01mif\u001b[39;00m k \u001b[38;5;129;01min\u001b[39;00m [\u001b[38;5;124m\"\u001b[39m\u001b[38;5;124mc\u001b[39m\u001b[38;5;124m\"\u001b[39m, \u001b[38;5;124m\"\u001b[39m\u001b[38;5;124mcolor\u001b[39m\u001b[38;5;124m\"\u001b[39m, \u001b[38;5;124m\"\u001b[39m\u001b[38;5;124mfc\u001b[39m\u001b[38;5;124m\"\u001b[39m, \u001b[38;5;124m\"\u001b[39m\u001b[38;5;124mfacecolor\u001b[39m\u001b[38;5;124m\"\u001b[39m]},\n\u001b[0;32m   1630\u001b[0m     saturation\u001b[38;5;241m=\u001b[39msaturation,\n\u001b[0;32m   1631\u001b[0m )\n\u001b[0;32m   1632\u001b[0m linecolor \u001b[38;5;241m=\u001b[39m p\u001b[38;5;241m.\u001b[39m_complement_color(linecolor, color, p\u001b[38;5;241m.\u001b[39m_hue_map)\n\u001b[1;32m-> 1634\u001b[0m \u001b[43mp\u001b[49m\u001b[38;5;241;43m.\u001b[39;49m\u001b[43mplot_boxes\u001b[49m\u001b[43m(\u001b[49m\n\u001b[0;32m   1635\u001b[0m \u001b[43m    \u001b[49m\u001b[43mwidth\u001b[49m\u001b[38;5;241;43m=\u001b[39;49m\u001b[43mwidth\u001b[49m\u001b[43m,\u001b[49m\n\u001b[0;32m   1636\u001b[0m \u001b[43m    \u001b[49m\u001b[43mdodge\u001b[49m\u001b[38;5;241;43m=\u001b[39;49m\u001b[43mdodge\u001b[49m\u001b[43m,\u001b[49m\n\u001b[0;32m   1637\u001b[0m \u001b[43m    \u001b[49m\u001b[43mgap\u001b[49m\u001b[38;5;241;43m=\u001b[39;49m\u001b[43mgap\u001b[49m\u001b[43m,\u001b[49m\n\u001b[0;32m   1638\u001b[0m \u001b[43m    \u001b[49m\u001b[43mfill\u001b[49m\u001b[38;5;241;43m=\u001b[39;49m\u001b[43mfill\u001b[49m\u001b[43m,\u001b[49m\n\u001b[0;32m   1639\u001b[0m \u001b[43m    \u001b[49m\u001b[43mwhis\u001b[49m\u001b[38;5;241;43m=\u001b[39;49m\u001b[43mwhis\u001b[49m\u001b[43m,\u001b[49m\n\u001b[0;32m   1640\u001b[0m \u001b[43m    \u001b[49m\u001b[43mcolor\u001b[49m\u001b[38;5;241;43m=\u001b[39;49m\u001b[43mcolor\u001b[49m\u001b[43m,\u001b[49m\n\u001b[0;32m   1641\u001b[0m \u001b[43m    \u001b[49m\u001b[43mlinecolor\u001b[49m\u001b[38;5;241;43m=\u001b[39;49m\u001b[43mlinecolor\u001b[49m\u001b[43m,\u001b[49m\n\u001b[0;32m   1642\u001b[0m \u001b[43m    \u001b[49m\u001b[43mlinewidth\u001b[49m\u001b[38;5;241;43m=\u001b[39;49m\u001b[43mlinewidth\u001b[49m\u001b[43m,\u001b[49m\n\u001b[0;32m   1643\u001b[0m \u001b[43m    \u001b[49m\u001b[43mfliersize\u001b[49m\u001b[38;5;241;43m=\u001b[39;49m\u001b[43mfliersize\u001b[49m\u001b[43m,\u001b[49m\n\u001b[0;32m   1644\u001b[0m \u001b[43m    \u001b[49m\u001b[43mplot_kws\u001b[49m\u001b[38;5;241;43m=\u001b[39;49m\u001b[43mkwargs\u001b[49m\u001b[43m,\u001b[49m\n\u001b[0;32m   1645\u001b[0m \u001b[43m\u001b[49m\u001b[43m)\u001b[49m\n\u001b[0;32m   1647\u001b[0m p\u001b[38;5;241m.\u001b[39m_add_axis_labels(ax)\n\u001b[0;32m   1648\u001b[0m p\u001b[38;5;241m.\u001b[39m_adjust_cat_axis(ax, axis\u001b[38;5;241m=\u001b[39mp\u001b[38;5;241m.\u001b[39morient)\n",
      "File \u001b[1;32mc:\\Users\\mgarrou\\AppData\\Local\\miniconda3\\Lib\\site-packages\\seaborn\\categorical.py:745\u001b[0m, in \u001b[0;36m_CategoricalPlotter.plot_boxes\u001b[1;34m(self, width, dodge, gap, fill, whis, color, linecolor, linewidth, fliersize, plot_kws)\u001b[0m\n\u001b[0;32m    742\u001b[0m     ax\u001b[38;5;241m.\u001b[39madd_container(BoxPlotContainer(artists))\n\u001b[0;32m    744\u001b[0m legend_artist \u001b[38;5;241m=\u001b[39m _get_patch_legend_artist(fill)\n\u001b[1;32m--> 745\u001b[0m \u001b[38;5;28mself\u001b[39m\u001b[38;5;241m.\u001b[39m_configure_legend(ax, legend_artist, \u001b[43mboxprops\u001b[49m)\n",
      "\u001b[1;31mUnboundLocalError\u001b[0m: cannot access local variable 'boxprops' where it is not associated with a value"
     ]
    },
    {
     "data": {
      "image/png": "[encoded data removed]",
      "text/plain": [
       "<Figure size 1200x300 with 2 Axes>"
      ]
     },
     "metadata": {},
     "output_type": "display_data"
    }
   ],
   "source": [
    "fig, ax = plt.subplots(1,2,figsize=(12,3), sharey=True)\n",
    "\n",
    "sns.boxplot(ax=ax[0], data=anr_anrh2, y='SMR', x='Abatement cost ANR ($/tCO2)', hue='SMR',width=0.5, palette=utils.palette)\n",
    "sns.boxplot(ax=ax[1], data=anr_anrh2, y='SMR', x='Abatement cost ANR-H2 ($/tCO2)', hue='SMR',width=0.5, palette=utils.palette)\n",
    "ax[1].set_xlim(1000,7000)\n",
    "ax[1].set_title('SMR-H2 in SMR+SMR-H2')\n",
    "ax[0].set_xlim(0,1000)\n",
    "ax[0].set_title('SMR in SMR+SMR-H2')\n",
    "ax[0].set_ylabel('')\n",
    "ax[1].set_ylabel('')\n",
    "#ax[1].get_legend().set_visible(False)\n",
    "fig.savefig(f'./results/process_heat/best_anr+anrh2_abatement_cost_2_steps_{OAK}_{cogen_tag}_PTC_{with_PTC}.png')"
   ]
  },
  {
   "cell_type": "code",
   "execution_count": 136,
   "metadata": {},
   "outputs": [
    {
     "data": {
      "image/png": "[encoded data removed]",
      "text/plain": [
       "<Figure size 1000x400 with 2 Axes>"
      ]
     },
     "metadata": {},
     "output_type": "display_data"
    }
   ],
   "source": [
    "fig, ax = plt.subplots(1,2, figsize=(10,4))\n",
    "sns.scatterplot(ax=ax[0], data=anr_anrh2, y='Abatement cost ANR ($/tCO2)', x='Heat Demand (MW)', hue='SMR', palette=utils.palette)\n",
    "ax[0].set_ylim(0,800)\n",
    "ax[0].set_ylabel('Abatement cost in ANR+ANR-H2 ($/tCO2)')\n",
    "ax[0].set_title('SMR')\n",
    "sns.scatterplot(ax=ax[1], data=anr_anrh2, y='Abatement cost ANR-H2 ($/tCO2)', x='Remaining_Heat_MW', hue='SMR', palette=utils.palette)\n",
    "ax[1].set_ylim(1000,8000)\n",
    "ax[1].set_xlim(0,10)\n",
    "ax[1].set_ylabel('')\n",
    "ax[1].set_title('SMR-H2')\n",
    "ax[1].set_xlabel('Remaining Heat Demand (MW)')\n",
    "#ax[1].get_legend().set_visible(False)\n",
    "fig.savefig(f'./results/process_heat/best_anr+anrh2_abatement_cost_vs_heat_demand_anr_design_{OAK}_{cogen_tag}_PTC_{with_PTC}.png')"
   ]
  },
  {
   "cell_type": "markdown",
   "metadata": {},
   "source": [
    "### Influence of temperature on profitability"
   ]
  },
  {
   "cell_type": "markdown",
   "metadata": {},
   "source": [
    "No influence of max temperature at facility on profitability"
   ]
  },
  {
   "cell_type": "markdown",
   "metadata": {},
   "source": [
    "### Comparison against NG without CCUS"
   ]
  },
  {
   "cell_type": "code",
   "execution_count": 137,
   "metadata": {},
   "outputs": [
    {
     "data": {
      "text/plain": [
       "Index(['FACILITY_ID', 'STATE', 'CITY', 'latitude', 'longitude',\n",
       "       'Batch_Temp_degC', 'max_temp_degC', 'Emissions (MMtCO2/y)',\n",
       "       'Emissions_batch_mmtco2/y', 'Emissions_rem_mmtco2/y',\n",
       "       'Heat Demand (MW)', 'Remaining_Heat_MW', 'Remaining_temp_degC',\n",
       "       'Annual_CAPEX_NOAK', 'FOPEX_NOAK', 'VOPEX_NOAK', 'NG price ($/MMBtu)',\n",
       "       'ANR Net Ann. Rev. NOAK ($/year)', 'IRR w PTC', 'IRR wo PTC',\n",
       "       'H2 Dem. (kg/h)', 'Technology', 'SMR', 'H2 Modules', 'ANR Modules',\n",
       "       'ANR CAPEX ($/MWe)', 'Annual ANR CAPEX', 'Annual H2 CAPEX', 'ANR CRF',\n",
       "       'Annual ANR-H2 CAPEX', 'ANR-H2 FOM', 'H2 VOM', 'H2 FOM', 'ANR VOM',\n",
       "       'ANR FOM', 'ANR-H2 VOM', 'Conversion', 'ANR-H2 Total Cost ($/year)',\n",
       "       'Avoided NG Cost ($/y)', 'H2 PTC', 'Electricity revenues ($/y)',\n",
       "       'Depl. ANR Cap. (MWe)', 'Depl. ANR Cap. (MWt)',\n",
       "       'Surplus SMR Cap. (MWe)', 'Surplus ANR Cap. (MWt)',\n",
       "       'Net Ann. Rev. ($/year)', 'Pathway', 'Pathway Net Ann. Rev. ($/year)',\n",
       "       'CAPEX ($/y)', 'O&M ($/y)', 'ANR-H2 Net Ann. Rev. ($/year)',\n",
       "       'Pathway Net Ann. Rev. (M$/y)', 'Pathway Net Ann. Rev. (M$/y/MWt)',\n",
       "       'Pathway Net Ann. Rev. (M$/y/MWe)', 'Industry',\n",
       "       'Cost NG + CCUS (M$/MWt/y)', 'Cost SMR deployment (M$/MWt/y)',\n",
       "       'Cost NG + CCUS 25 (M$/MWt/y)', 'Cost NG + CCUS 100 (M$/MWt/y)',\n",
       "       'Cost NG without CCUS (M$/MWt/y)'],\n",
       "      dtype='object')"
      ]
     },
     "execution_count": 137,
     "metadata": {},
     "output_type": "execute_result"
    }
   ],
   "source": [
    "comp_ccus['Cost NG without CCUS (M$/MWt/y)'] = comp_ccus['Avoided NG Cost ($/y)']/(comp_ccus['Depl. ANR Cap. (MWt)']*1e6)\n",
    "comp_ccus.columns"
   ]
  },
  {
   "cell_type": "code",
   "execution_count": 138,
   "metadata": {},
   "outputs": [
    {
     "data": {
      "image/png": "[encoded data removed]",
      "text/plain": [
       "<Figure size 600x400 with 1 Axes>"
      ]
     },
     "metadata": {},
     "output_type": "display_data"
    }
   ],
   "source": [
    "fig, ax = plt.subplots(sharey=True, figsize=(6,4))\n",
    "\n",
    "sns.scatterplot(ax=ax, data=comp_ccus, x= 'Cost NG without CCUS (M$/MWt/y)', y = 'Cost SMR deployment (M$/MWt/y)', hue='SMR', style='Pathway', palette=utils.palette)\n",
    "med_x = np.arange(-0.01,0.32, 0.01)\n",
    "ax.plot(med_x, med_x, color='grey', linestyle='--', linewidth=0.8)\n",
    "ax.legend(bbox_to_anchor=(1.01, .7))\n",
    "ax.set_ylim(-0.01, 0.42)\n",
    "fig.tight_layout()\n",
    "fig.savefig(f'./results/process_heat/best_comparison_costs_vs_ng_wo_ccus_{OAK}_{cogen_tag}_PTC_{with_PTC}.png')\n"
   ]
  },
  {
   "cell_type": "markdown",
   "metadata": {},
   "source": [
    "### Breakeven NG prices"
   ]
  },
  {
   "cell_type": "code",
   "execution_count": 139,
   "metadata": {},
   "outputs": [
    {
     "data": {
      "text/plain": [
       "Index(['FACILITY_ID', 'STATE', 'CITY', 'latitude', 'longitude',\n",
       "       'Batch_Temp_degC', 'max_temp_degC', 'Emissions_mmtco2/y',\n",
       "       'Emissions_batch_mmtco2/y', 'Emissions_rem_mmtco2/y',\n",
       "       'Heat Demand (MW)', 'Remaining_Heat_MW', 'Remaining_temp_degC',\n",
       "       'Annual_CAPEX_NOAK', 'FOPEX_NOAK', 'VOPEX_NOAK', 'NG price ($/MMBtu)',\n",
       "       'ANR Net Ann. Rev. NOAK ($/year)', 'IRR w PTC', 'IRR wo PTC',\n",
       "       'H2 Dem. (kg/h)', 'Technology', 'SMR', 'H2 Modules', 'ANR Modules',\n",
       "       'ANR CAPEX ($/MWe)', 'Annual ANR CAPEX', 'Annual H2 CAPEX', 'ANR CRF',\n",
       "       'Annual ANR-H2 CAPEX', 'ANR-H2 FOM', 'H2 VOM', 'H2 FOM', 'ANR VOM',\n",
       "       'ANR FOM', 'ANR-H2 VOM', 'Conversion', 'ANR-H2 Total Cost ($/year)',\n",
       "       'Avoided NG Cost ($/y)', 'H2 PTC', 'Electricity revenues ($/y)',\n",
       "       'Depl. ANR Cap. (MWe)', 'Depl. ANR Cap. (MWt)',\n",
       "       'Surplus SMR Cap. (MWe)', 'Surplus ANR Cap. (MWt)',\n",
       "       'Net Ann. Rev. ($/year)', 'Pathway', 'Pathway Net Ann. Rev. ($/year)',\n",
       "       'CAPEX ($/y)', 'O&M ($/y)', 'ANR-H2 Net Ann. Rev. ($/year)',\n",
       "       'Pathway Net Ann. Rev. (M$/y)', 'Pathway Net Ann. Rev. (M$/y/MWt)',\n",
       "       'Pathway Net Ann. Rev. (M$/y/MWe)', 'Industry'],\n",
       "      dtype='object')"
      ]
     },
     "execution_count": 139,
     "metadata": {},
     "output_type": "execute_result"
    }
   ],
   "source": [
    "bmp = best_pathway_mapped.copy()\n",
    "bmp.columns"
   ]
  },
  {
   "cell_type": "code",
   "execution_count": 140,
   "metadata": {},
   "outputs": [
    {
     "data": {
      "text/html": [
       "<div>\n",
       "<style scoped>\n",
       "    .dataframe tbody tr th:only-of-type {\n",
       "        vertical-align: middle;\n",
       "    }\n",
       "\n",
       "    .dataframe tbody tr th {\n",
       "        vertical-align: top;\n",
       "    }\n",
       "\n",
       "    .dataframe thead th {\n",
       "        text-align: right;\n",
       "    }\n",
       "</style>\n",
       "<table border=\"1\" class=\"dataframe\">\n",
       "  <thead>\n",
       "    <tr style=\"text-align: right;\">\n",
       "      <th></th>\n",
       "      <th>H2 PTC</th>\n",
       "      <th>Avoided NG Cost ($/y)</th>\n",
       "      <th>Annual H2 CAPEX</th>\n",
       "      <th>O&amp;M ($/y)</th>\n",
       "      <th>Conversion</th>\n",
       "      <th>Depl. ANR Cap. (MWe)</th>\n",
       "      <th>ANR CRF</th>\n",
       "      <th>ANR CAPEX ($/MWe)</th>\n",
       "    </tr>\n",
       "  </thead>\n",
       "  <tbody>\n",
       "    <tr>\n",
       "      <th>0</th>\n",
       "      <td>1.817387e+07</td>\n",
       "      <td>1.809758e+06</td>\n",
       "      <td>1.970549e+06</td>\n",
       "      <td>1.487835e+07</td>\n",
       "      <td>2.429970e+06</td>\n",
       "      <td>141.0</td>\n",
       "      <td>0.077909</td>\n",
       "      <td>3272800</td>\n",
       "    </tr>\n",
       "    <tr>\n",
       "      <th>1</th>\n",
       "      <td>3.227039e+07</td>\n",
       "      <td>3.145638e+06</td>\n",
       "      <td>3.526245e+06</td>\n",
       "      <td>1.901334e+07</td>\n",
       "      <td>4.302170e+06</td>\n",
       "      <td>141.0</td>\n",
       "      <td>0.077909</td>\n",
       "      <td>3272800</td>\n",
       "    </tr>\n",
       "    <tr>\n",
       "      <th>2</th>\n",
       "      <td>3.472257e+07</td>\n",
       "      <td>2.432455e+06</td>\n",
       "      <td>3.733672e+06</td>\n",
       "      <td>1.965950e+07</td>\n",
       "      <td>3.291176e+06</td>\n",
       "      <td>141.0</td>\n",
       "      <td>0.077909</td>\n",
       "      <td>3272800</td>\n",
       "    </tr>\n",
       "    <tr>\n",
       "      <th>3</th>\n",
       "      <td>1.070883e+08</td>\n",
       "      <td>1.417124e+07</td>\n",
       "      <td>1.151215e+07</td>\n",
       "      <td>5.023426e+07</td>\n",
       "      <td>1.492613e+07</td>\n",
       "      <td>282.0</td>\n",
       "      <td>0.077909</td>\n",
       "      <td>3272800</td>\n",
       "    </tr>\n",
       "    <tr>\n",
       "      <th>4</th>\n",
       "      <td>2.573162e+07</td>\n",
       "      <td>3.124938e+06</td>\n",
       "      <td>2.800254e+06</td>\n",
       "      <td>1.709024e+07</td>\n",
       "      <td>3.409433e+06</td>\n",
       "      <td>141.0</td>\n",
       "      <td>0.077909</td>\n",
       "      <td>3272800</td>\n",
       "    </tr>\n",
       "    <tr>\n",
       "      <th>...</th>\n",
       "      <td>...</td>\n",
       "      <td>...</td>\n",
       "      <td>...</td>\n",
       "      <td>...</td>\n",
       "      <td>...</td>\n",
       "      <td>...</td>\n",
       "      <td>...</td>\n",
       "      <td>...</td>\n",
       "    </tr>\n",
       "    <tr>\n",
       "      <th>914</th>\n",
       "      <td>1.797249e+07</td>\n",
       "      <td>2.118479e+06</td>\n",
       "      <td>1.970549e+06</td>\n",
       "      <td>1.484500e+07</td>\n",
       "      <td>2.343098e+06</td>\n",
       "      <td>141.0</td>\n",
       "      <td>0.077909</td>\n",
       "      <td>3272800</td>\n",
       "    </tr>\n",
       "    <tr>\n",
       "      <th>915</th>\n",
       "      <td>1.983179e+05</td>\n",
       "      <td>2.408441e+04</td>\n",
       "      <td>4.020976e+04</td>\n",
       "      <td>9.810521e+06</td>\n",
       "      <td>2.627706e+04</td>\n",
       "      <td>141.0</td>\n",
       "      <td>0.077909</td>\n",
       "      <td>3272800</td>\n",
       "    </tr>\n",
       "    <tr>\n",
       "      <th>916</th>\n",
       "      <td>1.518974e+07</td>\n",
       "      <td>1.651868e+06</td>\n",
       "      <td>1.659410e+06</td>\n",
       "      <td>1.402406e+07</td>\n",
       "      <td>2.012637e+06</td>\n",
       "      <td>141.0</td>\n",
       "      <td>0.077909</td>\n",
       "      <td>3272800</td>\n",
       "    </tr>\n",
       "    <tr>\n",
       "      <th>917</th>\n",
       "      <td>1.415450e+07</td>\n",
       "      <td>1.677300e+06</td>\n",
       "      <td>1.555697e+06</td>\n",
       "      <td>1.373258e+07</td>\n",
       "      <td>1.972875e+06</td>\n",
       "      <td>141.0</td>\n",
       "      <td>0.077909</td>\n",
       "      <td>3272800</td>\n",
       "    </tr>\n",
       "    <tr>\n",
       "      <th>918</th>\n",
       "      <td>4.093503e+07</td>\n",
       "      <td>6.011110e+06</td>\n",
       "      <td>4.459663e+06</td>\n",
       "      <td>2.152856e+07</td>\n",
       "      <td>5.705587e+06</td>\n",
       "      <td>141.0</td>\n",
       "      <td>0.077909</td>\n",
       "      <td>3272800</td>\n",
       "    </tr>\n",
       "  </tbody>\n",
       "</table>\n",
       "<p>919 rows × 8 columns</p>\n",
       "</div>"
      ],
      "text/plain": [
       "           H2 PTC  Avoided NG Cost ($/y)  Annual H2 CAPEX     O&M ($/y)  \\\n",
       "0    1.817387e+07           1.809758e+06     1.970549e+06  1.487835e+07   \n",
       "1    3.227039e+07           3.145638e+06     3.526245e+06  1.901334e+07   \n",
       "2    3.472257e+07           2.432455e+06     3.733672e+06  1.965950e+07   \n",
       "3    1.070883e+08           1.417124e+07     1.151215e+07  5.023426e+07   \n",
       "4    2.573162e+07           3.124938e+06     2.800254e+06  1.709024e+07   \n",
       "..            ...                    ...              ...           ...   \n",
       "914  1.797249e+07           2.118479e+06     1.970549e+06  1.484500e+07   \n",
       "915  1.983179e+05           2.408441e+04     4.020976e+04  9.810521e+06   \n",
       "916  1.518974e+07           1.651868e+06     1.659410e+06  1.402406e+07   \n",
       "917  1.415450e+07           1.677300e+06     1.555697e+06  1.373258e+07   \n",
       "918  4.093503e+07           6.011110e+06     4.459663e+06  2.152856e+07   \n",
       "\n",
       "       Conversion  Depl. ANR Cap. (MWe)   ANR CRF  ANR CAPEX ($/MWe)  \n",
       "0    2.429970e+06                 141.0  0.077909            3272800  \n",
       "1    4.302170e+06                 141.0  0.077909            3272800  \n",
       "2    3.291176e+06                 141.0  0.077909            3272800  \n",
       "3    1.492613e+07                 282.0  0.077909            3272800  \n",
       "4    3.409433e+06                 141.0  0.077909            3272800  \n",
       "..            ...                   ...       ...                ...  \n",
       "914  2.343098e+06                 141.0  0.077909            3272800  \n",
       "915  2.627706e+04                 141.0  0.077909            3272800  \n",
       "916  2.012637e+06                 141.0  0.077909            3272800  \n",
       "917  1.972875e+06                 141.0  0.077909            3272800  \n",
       "918  5.705587e+06                 141.0  0.077909            3272800  \n",
       "\n",
       "[919 rows x 8 columns]"
      ]
     },
     "execution_count": 140,
     "metadata": {},
     "output_type": "execute_result"
    }
   ],
   "source": [
    "bmp[['H2 PTC','Avoided NG Cost ($/y)','Annual H2 CAPEX','O&M ($/y)','Conversion','Depl. ANR Cap. (MWe)','ANR CRF','ANR CAPEX ($/MWe)']]"
   ]
  },
  {
   "cell_type": "code",
   "execution_count": 141,
   "metadata": {},
   "outputs": [
    {
     "name": "stdout",
     "output_type": "stream",
     "text": [
      "Breakeven NG prices between -53768.73047364797 and 13881.028845436238 $/MMBtu\n"
     ]
    },
    {
     "data": {
      "text/html": [
       "<div>\n",
       "<style scoped>\n",
       "    .dataframe tbody tr th:only-of-type {\n",
       "        vertical-align: middle;\n",
       "    }\n",
       "\n",
       "    .dataframe tbody tr th {\n",
       "        vertical-align: top;\n",
       "    }\n",
       "\n",
       "    .dataframe thead th {\n",
       "        text-align: right;\n",
       "    }\n",
       "</style>\n",
       "<table border=\"1\" class=\"dataframe\">\n",
       "  <thead>\n",
       "    <tr style=\"text-align: right;\">\n",
       "      <th></th>\n",
       "      <th>FACILITY_ID</th>\n",
       "      <th>STATE</th>\n",
       "      <th>CITY</th>\n",
       "      <th>latitude</th>\n",
       "      <th>longitude</th>\n",
       "      <th>Batch_Temp_degC</th>\n",
       "      <th>max_temp_degC</th>\n",
       "      <th>Emissions_mmtco2/y</th>\n",
       "      <th>Emissions_batch_mmtco2/y</th>\n",
       "      <th>Emissions_rem_mmtco2/y</th>\n",
       "      <th>...</th>\n",
       "      <th>ANR-H2 Net Ann. Rev. ($/year)</th>\n",
       "      <th>Pathway Net Ann. Rev. (M$/y)</th>\n",
       "      <th>Pathway Net Ann. Rev. (M$/y/MWt)</th>\n",
       "      <th>Pathway Net Ann. Rev. (M$/y/MWe)</th>\n",
       "      <th>Industry</th>\n",
       "      <th>NG Mult (MMBtu/MJ)</th>\n",
       "      <th>Breakeven NG price ($/MMBtu)</th>\n",
       "      <th>BE wo PTC ($/MMBtu)</th>\n",
       "      <th>Breakeven CAPEX ($/MWe)</th>\n",
       "      <th>Cost red CAPEX BE</th>\n",
       "    </tr>\n",
       "  </thead>\n",
       "  <tbody>\n",
       "    <tr>\n",
       "      <th>0</th>\n",
       "      <td>1000022</td>\n",
       "      <td>TX</td>\n",
       "      <td>TEXAS CITY</td>\n",
       "      <td>29.396013</td>\n",
       "      <td>-94.917548</td>\n",
       "      <td>NaN</td>\n",
       "      <td>900</td>\n",
       "      <td>0.028326</td>\n",
       "      <td>NaN</td>\n",
       "      <td>NaN</td>\n",
       "      <td>...</td>\n",
       "      <td>-3.265417e+06</td>\n",
       "      <td>-3.265417</td>\n",
       "      <td>-0.010885</td>\n",
       "      <td>-0.023159</td>\n",
       "      <td>Other Basic Organic Chemicals</td>\n",
       "      <td>0.000534</td>\n",
       "      <td>15.193530</td>\n",
       "      <td>69.600586</td>\n",
       "      <td>2.848148e+06</td>\n",
       "      <td>0.129752</td>\n",
       "    </tr>\n",
       "    <tr>\n",
       "      <th>1</th>\n",
       "      <td>1000025</td>\n",
       "      <td>LA</td>\n",
       "      <td>PORT ALLEN</td>\n",
       "      <td>30.453350</td>\n",
       "      <td>-91.210057</td>\n",
       "      <td>NaN</td>\n",
       "      <td>600</td>\n",
       "      <td>0.050151</td>\n",
       "      <td>NaN</td>\n",
       "      <td>NaN</td>\n",
       "      <td>...</td>\n",
       "      <td>3.708522e+06</td>\n",
       "      <td>3.708522</td>\n",
       "      <td>0.012362</td>\n",
       "      <td>0.026302</td>\n",
       "      <td>Petroleum Refineries</td>\n",
       "      <td>0.000642</td>\n",
       "      <td>-0.791648</td>\n",
       "      <td>44.593913</td>\n",
       "      <td>3.755075e+06</td>\n",
       "      <td>0.000000</td>\n",
       "    </tr>\n",
       "    <tr>\n",
       "      <th>2</th>\n",
       "      <td>1000029</td>\n",
       "      <td>WA</td>\n",
       "      <td>SEATTLE</td>\n",
       "      <td>47.603832</td>\n",
       "      <td>-122.330062</td>\n",
       "      <td>NaN</td>\n",
       "      <td>1100</td>\n",
       "      <td>0.038366</td>\n",
       "      <td>NaN</td>\n",
       "      <td>NaN</td>\n",
       "      <td>...</td>\n",
       "      <td>3.370642e+06</td>\n",
       "      <td>3.370642</td>\n",
       "      <td>0.011235</td>\n",
       "      <td>0.023905</td>\n",
       "      <td>Iron and Steel Mills</td>\n",
       "      <td>0.000462</td>\n",
       "      <td>-2.396951</td>\n",
       "      <td>86.314855</td>\n",
       "      <td>3.711136e+06</td>\n",
       "      <td>0.000000</td>\n",
       "    </tr>\n",
       "    <tr>\n",
       "      <th>3</th>\n",
       "      <td>1000035</td>\n",
       "      <td>OH</td>\n",
       "      <td>GREENVILLE</td>\n",
       "      <td>40.102391</td>\n",
       "      <td>-84.633299</td>\n",
       "      <td>NaN</td>\n",
       "      <td>450</td>\n",
       "      <td>0.173995</td>\n",
       "      <td>NaN</td>\n",
       "      <td>NaN</td>\n",
       "      <td>...</td>\n",
       "      <td>1.142372e+07</td>\n",
       "      <td>11.423721</td>\n",
       "      <td>0.019040</td>\n",
       "      <td>0.040510</td>\n",
       "      <td>Ethyl Alcohol</td>\n",
       "      <td>0.000696</td>\n",
       "      <td>1.027340</td>\n",
       "      <td>41.069394</td>\n",
       "      <td>4.015600e+06</td>\n",
       "      <td>0.000000</td>\n",
       "    </tr>\n",
       "    <tr>\n",
       "      <th>4</th>\n",
       "      <td>1000041</td>\n",
       "      <td>WI</td>\n",
       "      <td>MILWAUKEE</td>\n",
       "      <td>43.038648</td>\n",
       "      <td>-87.909075</td>\n",
       "      <td>NaN</td>\n",
       "      <td>800</td>\n",
       "      <td>0.039744</td>\n",
       "      <td>NaN</td>\n",
       "      <td>NaN</td>\n",
       "      <td>...</td>\n",
       "      <td>3.892945e+06</td>\n",
       "      <td>3.892945</td>\n",
       "      <td>0.012976</td>\n",
       "      <td>0.027610</td>\n",
       "      <td>Paperboard Mills</td>\n",
       "      <td>0.000570</td>\n",
       "      <td>-1.535159</td>\n",
       "      <td>49.899395</td>\n",
       "      <td>3.779059e+06</td>\n",
       "      <td>0.000000</td>\n",
       "    </tr>\n",
       "    <tr>\n",
       "      <th>...</th>\n",
       "      <td>...</td>\n",
       "      <td>...</td>\n",
       "      <td>...</td>\n",
       "      <td>...</td>\n",
       "      <td>...</td>\n",
       "      <td>...</td>\n",
       "      <td>...</td>\n",
       "      <td>...</td>\n",
       "      <td>...</td>\n",
       "      <td>...</td>\n",
       "      <td>...</td>\n",
       "      <td>...</td>\n",
       "      <td>...</td>\n",
       "      <td>...</td>\n",
       "      <td>...</td>\n",
       "      <td>...</td>\n",
       "      <td>...</td>\n",
       "      <td>...</td>\n",
       "      <td>...</td>\n",
       "      <td>...</td>\n",
       "      <td>...</td>\n",
       "    </tr>\n",
       "    <tr>\n",
       "      <th>914</th>\n",
       "      <td>1011979</td>\n",
       "      <td>IN</td>\n",
       "      <td>Valparaiso</td>\n",
       "      <td>41.467255</td>\n",
       "      <td>-87.060449</td>\n",
       "      <td>NaN</td>\n",
       "      <td>800</td>\n",
       "      <td>0.027314</td>\n",
       "      <td>NaN</td>\n",
       "      <td>NaN</td>\n",
       "      <td>...</td>\n",
       "      <td>4.982903e+06</td>\n",
       "      <td>4.982903</td>\n",
       "      <td>0.016610</td>\n",
       "      <td>0.035340</td>\n",
       "      <td>Other</td>\n",
       "      <td>0.000570</td>\n",
       "      <td>-8.331376</td>\n",
       "      <td>43.942860</td>\n",
       "      <td>3.920803e+06</td>\n",
       "      <td>0.000000</td>\n",
       "    </tr>\n",
       "    <tr>\n",
       "      <th>915</th>\n",
       "      <td>1012002</td>\n",
       "      <td>OH</td>\n",
       "      <td>Cincinnati</td>\n",
       "      <td>39.101454</td>\n",
       "      <td>-84.512460</td>\n",
       "      <td>NaN</td>\n",
       "      <td>800</td>\n",
       "      <td>0.000306</td>\n",
       "      <td>NaN</td>\n",
       "      <td>NaN</td>\n",
       "      <td>...</td>\n",
       "      <td>5.272960e+06</td>\n",
       "      <td>5.272960</td>\n",
       "      <td>0.017577</td>\n",
       "      <td>0.037397</td>\n",
       "      <td>Other</td>\n",
       "      <td>0.000570</td>\n",
       "      <td>-1361.317332</td>\n",
       "      <td>-1309.882778</td>\n",
       "      <td>3.958523e+06</td>\n",
       "      <td>0.000000</td>\n",
       "    </tr>\n",
       "    <tr>\n",
       "      <th>916</th>\n",
       "      <td>1012019</td>\n",
       "      <td>IA</td>\n",
       "      <td>Tama</td>\n",
       "      <td>42.056811</td>\n",
       "      <td>-92.543392</td>\n",
       "      <td>NaN</td>\n",
       "      <td>800</td>\n",
       "      <td>0.023461</td>\n",
       "      <td>NaN</td>\n",
       "      <td>NaN</td>\n",
       "      <td>...</td>\n",
       "      <td>7.308017e+05</td>\n",
       "      <td>0.730802</td>\n",
       "      <td>0.002436</td>\n",
       "      <td>0.005183</td>\n",
       "      <td>Paperboard Mills</td>\n",
       "      <td>0.000570</td>\n",
       "      <td>3.118857</td>\n",
       "      <td>54.553411</td>\n",
       "      <td>3.367837e+06</td>\n",
       "      <td>0.000000</td>\n",
       "    </tr>\n",
       "    <tr>\n",
       "      <th>917</th>\n",
       "      <td>1012036</td>\n",
       "      <td>NE</td>\n",
       "      <td>Mead</td>\n",
       "      <td>41.226621</td>\n",
       "      <td>-96.489259</td>\n",
       "      <td>NaN</td>\n",
       "      <td>450</td>\n",
       "      <td>0.022998</td>\n",
       "      <td>NaN</td>\n",
       "      <td>NaN</td>\n",
       "      <td>...</td>\n",
       "      <td>-2.717770e+06</td>\n",
       "      <td>-2.717770</td>\n",
       "      <td>-0.009059</td>\n",
       "      <td>-0.019275</td>\n",
       "      <td>Ethyl Alcohol</td>\n",
       "      <td>0.000696</td>\n",
       "      <td>12.433340</td>\n",
       "      <td>52.475393</td>\n",
       "      <td>2.919367e+06</td>\n",
       "      <td>0.107991</td>\n",
       "    </tr>\n",
       "    <tr>\n",
       "      <th>918</th>\n",
       "      <td>1012089</td>\n",
       "      <td>CA</td>\n",
       "      <td>Ceres</td>\n",
       "      <td>37.594932</td>\n",
       "      <td>-120.957710</td>\n",
       "      <td>NaN</td>\n",
       "      <td>450</td>\n",
       "      <td>0.066511</td>\n",
       "      <td>NaN</td>\n",
       "      <td>NaN</td>\n",
       "      <td>...</td>\n",
       "      <td>4.969603e+06</td>\n",
       "      <td>4.969603</td>\n",
       "      <td>0.016565</td>\n",
       "      <td>0.035245</td>\n",
       "      <td>Other</td>\n",
       "      <td>0.000696</td>\n",
       "      <td>1.018788</td>\n",
       "      <td>41.060841</td>\n",
       "      <td>3.919073e+06</td>\n",
       "      <td>0.000000</td>\n",
       "    </tr>\n",
       "  </tbody>\n",
       "</table>\n",
       "<p>919 rows × 60 columns</p>\n",
       "</div>"
      ],
      "text/plain": [
       "     FACILITY_ID STATE        CITY   latitude   longitude  Batch_Temp_degC  \\\n",
       "0        1000022    TX  TEXAS CITY  29.396013  -94.917548              NaN   \n",
       "1        1000025    LA  PORT ALLEN  30.453350  -91.210057              NaN   \n",
       "2        1000029    WA     SEATTLE  47.603832 -122.330062              NaN   \n",
       "3        1000035    OH  GREENVILLE  40.102391  -84.633299              NaN   \n",
       "4        1000041    WI   MILWAUKEE  43.038648  -87.909075              NaN   \n",
       "..           ...   ...         ...        ...         ...              ...   \n",
       "914      1011979    IN  Valparaiso  41.467255  -87.060449              NaN   \n",
       "915      1012002    OH  Cincinnati  39.101454  -84.512460              NaN   \n",
       "916      1012019    IA        Tama  42.056811  -92.543392              NaN   \n",
       "917      1012036    NE        Mead  41.226621  -96.489259              NaN   \n",
       "918      1012089    CA       Ceres  37.594932 -120.957710              NaN   \n",
       "\n",
       "     max_temp_degC  Emissions_mmtco2/y  Emissions_batch_mmtco2/y  \\\n",
       "0              900            0.028326                       NaN   \n",
       "1              600            0.050151                       NaN   \n",
       "2             1100            0.038366                       NaN   \n",
       "3              450            0.173995                       NaN   \n",
       "4              800            0.039744                       NaN   \n",
       "..             ...                 ...                       ...   \n",
       "914            800            0.027314                       NaN   \n",
       "915            800            0.000306                       NaN   \n",
       "916            800            0.023461                       NaN   \n",
       "917            450            0.022998                       NaN   \n",
       "918            450            0.066511                       NaN   \n",
       "\n",
       "     Emissions_rem_mmtco2/y  ...  ANR-H2 Net Ann. Rev. ($/year)  \\\n",
       "0                       NaN  ...                  -3.265417e+06   \n",
       "1                       NaN  ...                   3.708522e+06   \n",
       "2                       NaN  ...                   3.370642e+06   \n",
       "3                       NaN  ...                   1.142372e+07   \n",
       "4                       NaN  ...                   3.892945e+06   \n",
       "..                      ...  ...                            ...   \n",
       "914                     NaN  ...                   4.982903e+06   \n",
       "915                     NaN  ...                   5.272960e+06   \n",
       "916                     NaN  ...                   7.308017e+05   \n",
       "917                     NaN  ...                  -2.717770e+06   \n",
       "918                     NaN  ...                   4.969603e+06   \n",
       "\n",
       "     Pathway Net Ann. Rev. (M$/y)  Pathway Net Ann. Rev. (M$/y/MWt)  \\\n",
       "0                       -3.265417                         -0.010885   \n",
       "1                        3.708522                          0.012362   \n",
       "2                        3.370642                          0.011235   \n",
       "3                       11.423721                          0.019040   \n",
       "4                        3.892945                          0.012976   \n",
       "..                            ...                               ...   \n",
       "914                      4.982903                          0.016610   \n",
       "915                      5.272960                          0.017577   \n",
       "916                      0.730802                          0.002436   \n",
       "917                     -2.717770                         -0.009059   \n",
       "918                      4.969603                          0.016565   \n",
       "\n",
       "     Pathway Net Ann. Rev. (M$/y/MWe)                       Industry  \\\n",
       "0                           -0.023159  Other Basic Organic Chemicals   \n",
       "1                            0.026302           Petroleum Refineries   \n",
       "2                            0.023905           Iron and Steel Mills   \n",
       "3                            0.040510                  Ethyl Alcohol   \n",
       "4                            0.027610               Paperboard Mills   \n",
       "..                                ...                            ...   \n",
       "914                          0.035340                          Other   \n",
       "915                          0.037397                          Other   \n",
       "916                          0.005183               Paperboard Mills   \n",
       "917                         -0.019275                  Ethyl Alcohol   \n",
       "918                          0.035245                          Other   \n",
       "\n",
       "     NG Mult (MMBtu/MJ)  Breakeven NG price ($/MMBtu)  BE wo PTC ($/MMBtu)  \\\n",
       "0              0.000534                     15.193530            69.600586   \n",
       "1              0.000642                     -0.791648            44.593913   \n",
       "2              0.000462                     -2.396951            86.314855   \n",
       "3              0.000696                      1.027340            41.069394   \n",
       "4              0.000570                     -1.535159            49.899395   \n",
       "..                  ...                           ...                  ...   \n",
       "914            0.000570                     -8.331376            43.942860   \n",
       "915            0.000570                  -1361.317332         -1309.882778   \n",
       "916            0.000570                      3.118857            54.553411   \n",
       "917            0.000696                     12.433340            52.475393   \n",
       "918            0.000696                      1.018788            41.060841   \n",
       "\n",
       "     Breakeven CAPEX ($/MWe)  Cost red CAPEX BE  \n",
       "0               2.848148e+06           0.129752  \n",
       "1               3.755075e+06           0.000000  \n",
       "2               3.711136e+06           0.000000  \n",
       "3               4.015600e+06           0.000000  \n",
       "4               3.779059e+06           0.000000  \n",
       "..                       ...                ...  \n",
       "914             3.920803e+06           0.000000  \n",
       "915             3.958523e+06           0.000000  \n",
       "916             3.367837e+06           0.000000  \n",
       "917             2.919367e+06           0.107991  \n",
       "918             3.919073e+06           0.000000  \n",
       "\n",
       "[919 rows x 60 columns]"
      ]
     },
     "execution_count": 141,
     "metadata": {},
     "output_type": "execute_result"
    }
   ],
   "source": [
    "# Recalculate NG multiplier from max temperature recorded\n",
    "\n",
    "bmp['NG Mult (MMBtu/MJ)']  = bmp.apply(lambda x: compute_ng_multiplier(x['max_temp_degC']), axis=1) \n",
    "if cogen: bmp['Breakeven NG price ($/MMBtu)'] = (bmp['CAPEX ($/y)']+bmp['O&M ($/y)']+bmp['Conversion']-bmp['H2 PTC']-bmp['Electricity revenues ($/y)'])/\\\n",
    "                                              (bmp['NG Mult (MMBtu/MJ)']*bmp['Heat Demand (MW)']*utils.mwh_to_mj*8760)\n",
    "else: bmp['Breakeven NG price ($/MMBtu)'] = (bmp['CAPEX ($/y)']+bmp['O&M ($/y)']+bmp['Conversion']-bmp['H2 PTC'])/\\\n",
    "                                              (bmp['NG Mult (MMBtu/MJ)']*bmp['Heat Demand (MW)']*utils.mwh_to_mj*8760)\n",
    "if cogen: bmp['BE wo PTC ($/MMBtu)'] = (bmp['CAPEX ($/y)']+bmp['O&M ($/y)']+bmp['Conversion']-bmp['Electricity revenues ($/y)'])/\\\n",
    "                                              (bmp['NG Mult (MMBtu/MJ)']*bmp['Heat Demand (MW)']*utils.mwh_to_mj*8760)\n",
    "else: bmp['BE wo PTC ($/MMBtu)'] = (bmp['CAPEX ($/y)']+bmp['O&M ($/y)']+bmp['Conversion'])/\\\n",
    "                                              (bmp['NG Mult (MMBtu/MJ)']*bmp['Heat Demand (MW)']*utils.mwh_to_mj*8760)\n",
    "if cogen:\n",
    "  bmp['Breakeven CAPEX ($/MWe)'] = (bmp['H2 PTC']+bmp['Electricity revenues ($/y)']+bmp['Avoided NG Cost ($/y)']\\\n",
    "  -(bmp['Annual H2 CAPEX']+bmp['O&M ($/y)']+bmp['Conversion']))/(bmp['Depl. ANR Cap. (MWe)']*bmp['ANR CRF']*(1-utils.ITC_ANR))\n",
    "  # Cost reduction compared to capex \n",
    "  bmp['Cost red CAPEX BE'] = bmp.apply(lambda x:max(0,1-(x['Breakeven CAPEX ($/MWe)']/x['ANR CAPEX ($/MWe)'])), axis=1)\n",
    "else: \n",
    "  bmp['Breakeven CAPEX ($/MWe)'] = (bmp['H2 PTC']+bmp['Avoided NG Cost ($/y)']\\\n",
    "  -(bmp['Annual H2 CAPEX']+bmp['O&M ($/y)']+bmp['Conversion']))/(bmp['Depl. ANR Cap. (MWe)']*bmp['ANR CRF']*(1-utils.ITC_ANR))\n",
    "  # Cost reduction compared to capex \n",
    "  bmp['Cost red CAPEX BE'] = bmp.apply(lambda x:max(0,1-(x['Breakeven CAPEX ($/MWe)']/x['ANR CAPEX ($/MWe)'])), axis=1)\n",
    "\n",
    "max_ng = max(bmp['Breakeven NG price ($/MMBtu)'])\n",
    "min_ng = min(bmp['Breakeven NG price ($/MMBtu)'])\n",
    "print(f'Breakeven NG prices between {min_ng} and {max_ng} $/MMBtu')\n",
    "bmp"
   ]
  },
  {
   "cell_type": "code",
   "execution_count": 142,
   "metadata": {},
   "outputs": [
    {
     "data": {
      "image/png": "[encoded data removed]",
      "text/plain": [
       "<Figure size 500x300 with 1 Axes>"
      ]
     },
     "metadata": {},
     "output_type": "display_data"
    }
   ],
   "source": [
    "save_path = f'./results/process_heat/best_breakeven_ng_vs_pathway_{OAK}_{cogen_tag}_PTC_{with_PTC}.png'\n",
    "fig, ax = plt.subplots(figsize=(5,3))\n",
    "sns.boxplot(ax=ax, data=bmp, y='Pathway', x='Breakeven NG price ($/MMBtu)', hue='Pathway',fill=False, width=.4)\n",
    "ax.set_xlim(0,200)\n",
    "ax.set_ylabel('')\n",
    "sns.despine()\n",
    "\n",
    "import matplotlib.patheffects as path_effects\n",
    "\n",
    "\n",
    "def add_median_labels_outside(ax: plt.Axes, fmt: str = \".1f\") -> None:\n",
    "    \"\"\"Add text labels to the median lines of a seaborn boxplot.\n",
    "\n",
    "    Args:\n",
    "        ax: plt.Axes, e.g. the return value of sns.boxplot()\n",
    "        fmt: format string for the median value\n",
    "    \"\"\"\n",
    "    lines = ax.get_lines()\n",
    "    boxes = [c for c in ax.get_children() if \"Patch\" in str(c)]\n",
    "    start = 4\n",
    "    if not boxes:  # seaborn v0.13 => fill=False => no patches => +1 line\n",
    "        boxes = [c for c in ax.get_lines() if len(c.get_xdata()) == 5]\n",
    "        start += 1\n",
    "    lines_per_box = len(lines) // len(boxes)\n",
    "    for median in lines[start::lines_per_box]:\n",
    "        x, y = (data.mean() for data in median.get_data())\n",
    "        # choose value depending on horizontal or vertical plot orientation\n",
    "        value = x if len(set(median.get_xdata())) == 1 else y\n",
    "        xleftlim,xrightlim = ax.get_xlim()\n",
    "        text = ax.text(xrightlim*1.08, y, f'{value:{fmt}}', ha='center', va='center', color='white')\n",
    "        # create median-colored border around white text for contrast\n",
    "        text.set_path_effects([\n",
    "            path_effects.Stroke(linewidth=3, foreground=median.get_color()),\n",
    "            path_effects.Normal(),\n",
    "        ])\n",
    "add_median_labels_outside(ax)\n",
    "fig.tight_layout()\n",
    "fig.savefig(save_path)"
   ]
  },
  {
   "cell_type": "code",
   "execution_count": 143,
   "metadata": {},
   "outputs": [
    {
     "data": {
      "image/png": "[encoded data removed]",
      "text/plain": [
       "<Figure size 600x400 with 1 Axes>"
      ]
     },
     "metadata": {},
     "output_type": "display_data"
    }
   ],
   "source": [
    "save_path = f'./results/process_heat/best_breakeven_ng_vs_pathway_anr_{OAK}_{cogen_tag}_PTC_{with_PTC}.png'\n",
    "fig, ax = plt.subplots(figsize=(6,4))\n",
    "sns.boxplot(ax=ax, data=bmp, y='Pathway', x='Breakeven NG price ($/MMBtu)', hue='SMR',fill=False, width=.5)\n",
    "ax.set_ylabel('')\n",
    "ax.set_xlim(0,100)\n",
    "sns.despine()\n",
    "ax.legend(bbox_to_anchor=(1.12, .4))\n",
    "\n",
    "add_median_labels_outside(ax)\n",
    "fig.tight_layout()\n",
    "fig.savefig(save_path)"
   ]
  },
  {
   "cell_type": "code",
   "execution_count": 144,
   "metadata": {},
   "outputs": [
    {
     "data": {
      "image/png": "[encoded data removed]",
      "text/plain": [
       "<Figure size 400x400 with 1 Axes>"
      ]
     },
     "metadata": {},
     "output_type": "display_data"
    }
   ],
   "source": [
    "# Scatter plots: Heat demand\n",
    "fig, ax = plt.subplots(sharey=True, figsize=(4,4))\n",
    "\n",
    "sns.scatterplot(ax=ax, data=bmp, x= 'Heat Demand (MW)', y = 'Breakeven NG price ($/MMBtu)', hue='SMR', palette=utils.palette)\n",
    "\n",
    "ax.set_ylim(0,100)\n",
    "sns.despine()\n",
    "fig.savefig(f'./results/process_heat/best_be_ng_vs_heat_demand_{OAK}_{cogen_tag}_PTC_{with_PTC}.png')"
   ]
  },
  {
   "cell_type": "markdown",
   "metadata": {},
   "source": [
    "### Calculation abatement cost and potential"
   ]
  },
  {
   "cell_type": "code",
   "execution_count": 145,
   "metadata": {},
   "outputs": [
    {
     "data": {
      "text/plain": [
       "Index(['FACILITY_ID', 'STATE', 'CITY', 'latitude', 'longitude',\n",
       "       'Batch_Temp_degC', 'max_temp_degC', 'Emissions_mmtco2/y',\n",
       "       'Emissions_batch_mmtco2/y', 'Emissions_rem_mmtco2/y',\n",
       "       'Heat Demand (MW)', 'Remaining_Heat_MW', 'Remaining_temp_degC',\n",
       "       'Annual_CAPEX_NOAK', 'FOPEX_NOAK', 'VOPEX_NOAK', 'NG price ($/MMBtu)',\n",
       "       'ANR Net Ann. Rev. NOAK ($/year)', 'IRR w PTC', 'IRR wo PTC',\n",
       "       'H2 Dem. (kg/h)', 'Technology', 'SMR', 'H2 Modules', 'ANR Modules',\n",
       "       'ANR CAPEX ($/MWe)', 'Annual ANR CAPEX', 'Annual H2 CAPEX', 'ANR CRF',\n",
       "       'Annual ANR-H2 CAPEX', 'ANR-H2 FOM', 'H2 VOM', 'H2 FOM', 'ANR VOM',\n",
       "       'ANR FOM', 'ANR-H2 VOM', 'Conversion', 'ANR-H2 Total Cost ($/year)',\n",
       "       'Avoided NG Cost ($/y)', 'H2 PTC', 'Electricity revenues ($/y)',\n",
       "       'Depl. ANR Cap. (MWe)', 'Depl. ANR Cap. (MWt)',\n",
       "       'Surplus SMR Cap. (MWe)', 'Surplus ANR Cap. (MWt)',\n",
       "       'Net Ann. Rev. ($/year)', 'Pathway', 'Pathway Net Ann. Rev. ($/year)',\n",
       "       'CAPEX ($/y)', 'O&M ($/y)', 'ANR-H2 Net Ann. Rev. ($/year)',\n",
       "       'Pathway Net Ann. Rev. (M$/y)', 'Pathway Net Ann. Rev. (M$/y/MWt)',\n",
       "       'Pathway Net Ann. Rev. (M$/y/MWe)', 'Industry', 'NG Mult (MMBtu/MJ)',\n",
       "       'Breakeven NG price ($/MMBtu)', 'BE wo PTC ($/MMBtu)',\n",
       "       'Breakeven CAPEX ($/MWe)', 'Cost red CAPEX BE'],\n",
       "      dtype='object')"
      ]
     },
     "execution_count": 145,
     "metadata": {},
     "output_type": "execute_result"
    }
   ],
   "source": [
    "bmp.columns"
   ]
  },
  {
   "cell_type": "code",
   "execution_count": 146,
   "metadata": {},
   "outputs": [],
   "source": [
    "bmp['Cost ANR ($/y)'] = bmp['CAPEX ($/y)']+bmp['O&M ($/y)']+bmp['Conversion']-bmp['Avoided NG Cost ($/y)']\n",
    "bmp['Abatement cost ($/tCO2)'] = bmp['Cost ANR ($/y)']/(bmp['Emissions_mmtco2/y']*1e6)\n",
    "bmp['Abatement potential (tCO2/y-MWe)'] = 1e6*bmp['Emissions_mmtco2/y']/bmp['Depl. ANR Cap. (MWe)']"
   ]
  },
  {
   "cell_type": "markdown",
   "metadata": {},
   "source": [
    "### Save results"
   ]
  },
  {
   "cell_type": "code",
   "execution_count": 147,
   "metadata": {},
   "outputs": [],
   "source": [
    "bmp.to_excel(f'./results/process_heat/best_pathway_{OAK}_{cogen_tag}_PTC_{with_PTC}.xlsx')"
   ]
  },
  {
   "cell_type": "markdown",
   "metadata": {},
   "source": [
    "### Cashflows breakdown"
   ]
  },
  {
   "cell_type": "code",
   "execution_count": 148,
   "metadata": {},
   "outputs": [
    {
     "data": {
      "text/plain": [
       "Index(['FACILITY_ID', 'STATE', 'CITY', 'latitude', 'longitude',\n",
       "       'Batch_Temp_degC', 'max_temp_degC', 'Emissions_mmtco2/y',\n",
       "       'Emissions_batch_mmtco2/y', 'Emissions_rem_mmtco2/y',\n",
       "       'Heat Demand (MW)', 'Remaining_Heat_MW', 'Remaining_temp_degC',\n",
       "       'Annual_CAPEX_NOAK', 'FOPEX_NOAK', 'VOPEX_NOAK', 'NG price ($/MMBtu)',\n",
       "       'ANR Net Ann. Rev. NOAK ($/year)', 'IRR w PTC', 'IRR wo PTC',\n",
       "       'H2 Dem. (kg/h)', 'Technology', 'SMR', 'H2 Modules', 'ANR Modules',\n",
       "       'ANR CAPEX ($/MWe)', 'Annual ANR CAPEX', 'Annual H2 CAPEX', 'ANR CRF',\n",
       "       'Annual ANR-H2 CAPEX', 'ANR-H2 FOM', 'H2 VOM', 'H2 FOM', 'ANR VOM',\n",
       "       'ANR FOM', 'ANR-H2 VOM', 'Conversion', 'ANR-H2 Total Cost ($/year)',\n",
       "       'Avoided NG Cost ($/y)', 'H2 PTC', 'Electricity revenues ($/y)',\n",
       "       'Depl. ANR Cap. (MWe)', 'Depl. ANR Cap. (MWt)',\n",
       "       'Surplus SMR Cap. (MWe)', 'Surplus ANR Cap. (MWt)',\n",
       "       'Net Ann. Rev. ($/year)', 'Pathway', 'Pathway Net Ann. Rev. ($/year)',\n",
       "       'CAPEX ($/y)', 'O&M ($/y)', 'ANR-H2 Net Ann. Rev. ($/year)',\n",
       "       'Pathway Net Ann. Rev. (M$/y)', 'Pathway Net Ann. Rev. (M$/y/MWt)',\n",
       "       'Pathway Net Ann. Rev. (M$/y/MWe)'],\n",
       "      dtype='object')"
      ]
     },
     "execution_count": 148,
     "metadata": {},
     "output_type": "execute_result"
    }
   ],
   "source": [
    "color_map = {'SMR CAPEX': 'navy', \n",
    "             'SMR for H2 CAPEX': 'royalblue',\n",
    "               'H2 CAPEX': 'lightsteelblue', \n",
    "               'SMR O&M':'darkgreen', \n",
    "               'SMR for H2 O&M':'forestgreen', \n",
    "               'H2 O&M':'palegreen',\n",
    "               'Avoided Fossil Fuel Costs':'darkorchid', \n",
    "               'H2 PTC':'plum', \n",
    "               'Electricity':'pink'}\n",
    "best_pathway.columns\n",
    "\n"
   ]
  },
  {
   "cell_type": "code",
   "execution_count": 149,
   "metadata": {},
   "outputs": [
    {
     "data": {
      "text/plain": [
       "913     2.516664e+07\n",
       "914     2.516664e+07\n",
       "915     2.516664e+07\n",
       "916     5.033328e+07\n",
       "917     2.516664e+07\n",
       "            ...     \n",
       "1827    2.516664e+07\n",
       "1828    2.516664e+07\n",
       "1829    2.516664e+07\n",
       "1830    2.516664e+07\n",
       "1831    2.516664e+07\n",
       "Name: Annual ANR CAPEX, Length: 919, dtype: float64"
      ]
     },
     "execution_count": 149,
     "metadata": {},
     "output_type": "execute_result"
    }
   ],
   "source": [
    "best_pathway['Annual ANR CAPEX']"
   ]
  },
  {
   "cell_type": "code",
   "execution_count": 150,
   "metadata": {},
   "outputs": [],
   "source": [
    "cashflows_df_anr_anrh2 = best_pathway[best_pathway.Pathway=='SMR+SMR-H2']\n",
    "\n",
    "cashflows_df_anr_anrh2['SMR CAPEX'] = -cashflows_df_anr_anrh2[f'Annual_CAPEX_{OAK}']/(1e6*cashflows_df_anr_anrh2['Depl. ANR Cap. (MWe)'])\n",
    "cashflows_df_anr_anrh2['SMR for H2 CAPEX'] = -cashflows_df_anr_anrh2['Annual ANR CAPEX']/(1e6*cashflows_df_anr_anrh2['Depl. ANR Cap. (MWe)'])\n",
    "cashflows_df_anr_anrh2['H2 CAPEX'] = -cashflows_df_anr_anrh2['Annual H2 CAPEX']/(1e6*cashflows_df_anr_anrh2['Depl. ANR Cap. (MWe)'])\n",
    "cashflows_df_anr_anrh2['SMR O&M'] = -(cashflows_df_anr_anrh2[f'FOPEX_{OAK}']+cashflows_df_anr_anrh2[f'VOPEX_{OAK}'])/(1e6*cashflows_df_anr_anrh2['Depl. ANR Cap. (MWe)'])\n",
    "cashflows_df_anr_anrh2['SMR for H2 O&M'] = -(cashflows_df_anr_anrh2['ANR VOM']+cashflows_df_anr_anrh2['ANR FOM'])/(1e6*cashflows_df_anr_anrh2['Depl. ANR Cap. (MWe)'])\n",
    "cashflows_df_anr_anrh2['H2 O&M'] = -(cashflows_df_anr_anrh2['H2 VOM']+cashflows_df_anr_anrh2['H2 FOM'])/(1e6*cashflows_df_anr_anrh2['Depl. ANR Cap. (MWe)'])\n",
    "cashflows_df_anr_anrh2['Avoided Fossil Fuel Costs'] = cashflows_df_anr_anrh2['Avoided NG Cost ($/y)']/(1e6*cashflows_df_anr_anrh2['Depl. ANR Cap. (MWe)'])\n",
    "cashflows_df_anr_anrh2['H2 PTC'] = cashflows_df_anr_anrh2['H2 PTC']/(1e6*cashflows_df_anr_anrh2['Depl. ANR Cap. (MWe)'])\n",
    "if cogen: cashflows_df_anr_anrh2['Electricity'] = cashflows_df_anr_anrh2['Electricity revenues ($/y)']/(1e6*cashflows_df_anr_anrh2['Depl. ANR Cap. (MWe)'])\n",
    "\n",
    "\n",
    "cashflows_df_anrh2 = best_pathway[best_pathway.Pathway=='SMR-H2']\n",
    "\n",
    "cashflows_df_anrh2['SMR CAPEX'] = 0\n",
    "cashflows_df_anrh2['SMR for H2 CAPEX'] = -cashflows_df_anrh2['Annual ANR CAPEX']/(1e6*cashflows_df_anrh2['Depl. ANR Cap. (MWe)'])\n",
    "cashflows_df_anrh2['H2 CAPEX'] = -cashflows_df_anrh2['Annual H2 CAPEX']/(1e6*cashflows_df_anrh2['Depl. ANR Cap. (MWe)'])\n",
    "cashflows_df_anrh2['SMR O&M'] = 0\n",
    "cashflows_df_anrh2['SMR for H2 O&M'] = -(cashflows_df_anrh2['ANR VOM']+cashflows_df_anrh2['ANR FOM'])/(1e6*cashflows_df_anrh2['Depl. ANR Cap. (MWe)'])\n",
    "cashflows_df_anrh2['H2 O&M'] = -(cashflows_df_anrh2['H2 VOM']+cashflows_df_anrh2['H2 FOM'])/(1e6*cashflows_df_anrh2['Depl. ANR Cap. (MWe)'])\n",
    "cashflows_df_anrh2['Avoided Fossil Fuel Costs'] = cashflows_df_anrh2['Avoided NG Cost ($/y)']/(1e6*cashflows_df_anrh2['Depl. ANR Cap. (MWe)'])\n",
    "cashflows_df_anrh2['H2 PTC'] = cashflows_df_anrh2['H2 PTC']/(1e6*cashflows_df_anrh2['Depl. ANR Cap. (MWe)'])\n",
    "if cogen: cashflows_df_anrh2['Electricity'] = cashflows_df_anrh2['Electricity revenues ($/y)']/(1e6*cashflows_df_anrh2['Depl. ANR Cap. (MWe)'])"
   ]
  },
  {
   "cell_type": "code",
   "execution_count": 151,
   "metadata": {},
   "outputs": [],
   "source": [
    "if cogen:\n",
    "  cashflows_df_anr_anrh2 = cashflows_df_anr_anrh2[['SMR', 'SMR CAPEX','SMR for H2 CAPEX','H2 CAPEX','SMR O&M','SMR for H2 O&M', \n",
    "                                                 'H2 O&M','Avoided Fossil Fuel Costs','H2 PTC', 'Electricity']]\n",
    "  cashflows_df_anrh2 = cashflows_df_anrh2[['SMR', 'SMR CAPEX','SMR for H2 CAPEX','H2 CAPEX','SMR O&M','SMR for H2 O&M', \n",
    "                                                 'H2 O&M','Avoided Fossil Fuel Costs','H2 PTC', 'Electricity']]\n",
    "else:\n",
    "  cashflows_df_anr_anrh2 = cashflows_df_anr_anrh2[['SMR', 'SMR CAPEX','SMR for H2 CAPEX','H2 CAPEX','SMR O&M','SMR for H2 O&M', \n",
    "                                                 'H2 O&M','Avoided Fossil Fuel Costs','H2 PTC']]\n",
    "  cashflows_df_anrh2 = cashflows_df_anrh2[['SMR', 'SMR CAPEX','SMR for H2 CAPEX','H2 CAPEX','SMR O&M','SMR for H2 O&M', \n",
    "                                                  'H2 O&M','Avoided Fossil Fuel Costs','H2 PTC']]"
   ]
  },
  {
   "cell_type": "code",
   "execution_count": 152,
   "metadata": {},
   "outputs": [],
   "source": [
    "cashflows_df_anr_anrh2 = cashflows_df_anr_anrh2.groupby(['SMR']).mean()\n",
    "cashflows_df_anrh2 = cashflows_df_anrh2.groupby(['SMR']).mean()"
   ]
  },
  {
   "cell_type": "code",
   "execution_count": 153,
   "metadata": {},
   "outputs": [],
   "source": [
    "cashflows_df_anr_anrh2.to_excel(f'./results/process_heat/anr+anrh2_avg_cashflows_{OAK}_{cogen_tag}_PTC_{with_PTC}.xlsx')"
   ]
  },
  {
   "cell_type": "code",
   "execution_count": 154,
   "metadata": {},
   "outputs": [],
   "source": [
    "cashflows_df_anrh2.to_excel(f'./results/process_heat/anrh2_avg_cashflows_{OAK}_{cogen_tag}_PTC_{with_PTC}.xlsx')"
   ]
  },
  {
   "cell_type": "code",
   "execution_count": 155,
   "metadata": {},
   "outputs": [
    {
     "data": {
      "image/png": "[encoded data removed]",
      "text/plain": [
       "<Figure size 800x400 with 2 Axes>"
      ]
     },
     "metadata": {},
     "output_type": "display_data"
    }
   ],
   "source": [
    "fig, ax = plt.subplots(1,2, sharey=True, figsize=(8,4))\n",
    "cashflows_df_anr_anrh2.plot(ax = ax[0], kind ='bar', stacked=True, color=color_map, width=0.4)\n",
    "ax[0].set_ylabel('Average Normalized Cashflows (M$/MWt/y)')\n",
    "ax[0].set_xlabel('')\n",
    "ax[0].axhline(y=0, color='grey', linestyle='--', linewidth=0.5)\n",
    "ax[0].set_xticks(ax[0].get_xticks(), ax[0].get_xticklabels(), rotation=50, ha='right')\n",
    "ax[0].set_ylim(-1.02, 0.52)\n",
    "ax[0].yaxis.set_ticks(np.arange(-1.75, 1, 0.25))\n",
    "ax[0].get_legend().set_visible(False)\n",
    "ax[0].set_title('SMR+SMR-H2')\n",
    "\n",
    "cashflows_df_anrh2.plot(ax = ax[1], kind ='bar', stacked=True, color=color_map, width=0.25)\n",
    "ax[1].set_xlabel('')\n",
    "ax[1].axhline(y=0, color='grey', linestyle='--', linewidth=0.5)\n",
    "ax[1].set_xticks(ax[1].get_xticks(), ax[1].get_xticklabels(), rotation=50, ha='right')\n",
    "ax[1].set_ylim(-1.02, 0.52)\n",
    "ax[1].yaxis.set_ticks(np.arange(-1.75, 1, 0.25))\n",
    "ax[1].get_legend().set_visible(False)\n",
    "ax[1].set_title('SMR-H2')\n",
    "\n",
    "handles, labels = ax[0].get_legend_handles_labels()\n",
    "fig.legend(handles, labels,  bbox_to_anchor=(.5,1.18),loc='upper center', ncol=3)\n",
    "fig.tight_layout()\n",
    "fig.savefig(f'./results/process_heat/best_avg_cashflows_vs_pathways_anr_{OAK}_{cogen_tag}_PTC_{with_PTC}.png')\n",
    "  "
   ]
  }
 ],
 "metadata": {
  "kernelspec": {
   "display_name": "base",
   "language": "python",
   "name": "python3"
  },
  "language_info": {
   "codemirror_mode": {
    "name": "ipython",
    "version": 3
   },
   "file_extension": ".py",
   "mimetype": "text/x-python",
   "name": "python",
   "nbconvert_exporter": "python",
   "pygments_lexer": "ipython3",
   "version": "3.11.4"
  }
 },
 "nbformat": 4,
 "nbformat_minor": 2
}
